{
 "cells": [
  {
   "cell_type": "markdown",
   "source": [
    "# Data Preparation for ML\n",
    "\n",
    "Before training any ML model, you will have to invest some time in data preparation. There are usually two steps:\n",
    "\n",
    "- Data Cleaning is very general and usually needs to be done before training. This step should be applied iteratively during EDA.\n",
    "- Data Transformations are usually very ML task/algorithm specific. The goal is to convert data into a suitable form for the task/algorithm.\n",
    "\n",
    "> ✏️ The example is inspired by {cite}`packtpublishing`, {cite}`scikit_preprocessing` and {cite}`scikit_imputation`.\n",
    "\n",
    "Let's start by importing packages:"
   ],
   "metadata": {
    "collapsed": false
   }
  },
  {
   "cell_type": "code",
   "execution_count": 1,
   "outputs": [],
   "source": [
    "import pandas as pd\n",
    "import numpy as np\n",
    "from sklearn import preprocessing, impute"
   ],
   "metadata": {
    "collapsed": false
   }
  },
  {
   "cell_type": "markdown",
   "source": [
    "## Data Cleaning\n",
    "\n",
    "This section will show you some techniques for dealing with noisy datasets. In general, there are two approaches:\n",
    "\n",
    "- Throwing noisy instances away\n",
    "- Applying some techniques to data to reduce the noise\n",
    "\n",
    "Usually, throwing data away is not the best option because acquiring data (and additional samples) is very expensive, so we try to salvage as much data as possible. Of course, it should only be done to some extent because, in many cases, some samples are beyond recovery).\n",
    "\n",
    "### Handling Duplications\n",
    "\n",
    "In many cases, data handed to us might contain duplicated instances (for example, a single measurement is duplicated several times). Having such data might introduce a lot of unwanted biases."
   ],
   "metadata": {
    "collapsed": false
   }
  },
  {
   "cell_type": "code",
   "execution_count": 2,
   "outputs": [
    {
     "data": {
      "text/plain": "    column 1  column 2\n0    Looping        10\n1    Looping        10\n2    Looping        22\n3  Functions        23\n4  Functions        23\n5  Functions        24\n6  Functions        24",
      "text/html": "<div>\n<style scoped>\n    .dataframe tbody tr th:only-of-type {\n        vertical-align: middle;\n    }\n\n    .dataframe tbody tr th {\n        vertical-align: top;\n    }\n\n    .dataframe thead th {\n        text-align: right;\n    }\n</style>\n<table border=\"1\" class=\"dataframe\">\n  <thead>\n    <tr style=\"text-align: right;\">\n      <th></th>\n      <th>column 1</th>\n      <th>column 2</th>\n    </tr>\n  </thead>\n  <tbody>\n    <tr>\n      <th>0</th>\n      <td>Looping</td>\n      <td>10</td>\n    </tr>\n    <tr>\n      <th>1</th>\n      <td>Looping</td>\n      <td>10</td>\n    </tr>\n    <tr>\n      <th>2</th>\n      <td>Looping</td>\n      <td>22</td>\n    </tr>\n    <tr>\n      <th>3</th>\n      <td>Functions</td>\n      <td>23</td>\n    </tr>\n    <tr>\n      <th>4</th>\n      <td>Functions</td>\n      <td>23</td>\n    </tr>\n    <tr>\n      <th>5</th>\n      <td>Functions</td>\n      <td>24</td>\n    </tr>\n    <tr>\n      <th>6</th>\n      <td>Functions</td>\n      <td>24</td>\n    </tr>\n  </tbody>\n</table>\n</div>"
     },
     "execution_count": 2,
     "metadata": {},
     "output_type": "execute_result"
    }
   ],
   "source": [
    "df = pd.DataFrame(\n",
    "    {\n",
    "        'column 1': ['Looping'] * 3 + ['Functions'] * 4,\n",
    "        'column 2': [10, 10, 22, 23, 23, 24, 24]\n",
    "    }\n",
    ")\n",
    "df"
   ],
   "metadata": {
    "collapsed": false
   }
  },
  {
   "cell_type": "code",
   "execution_count": 3,
   "outputs": [
    {
     "data": {
      "text/plain": "0    False\n1     True\n2    False\n3    False\n4     True\n5    False\n6     True\ndtype: bool"
     },
     "execution_count": 3,
     "metadata": {},
     "output_type": "execute_result"
    }
   ],
   "source": [
    "df.duplicated()"
   ],
   "metadata": {
    "collapsed": false
   }
  },
  {
   "cell_type": "code",
   "execution_count": 4,
   "outputs": [
    {
     "data": {
      "text/plain": "    column 1  column 2\n0    Looping        10\n2    Looping        22\n3  Functions        23\n5  Functions        24",
      "text/html": "<div>\n<style scoped>\n    .dataframe tbody tr th:only-of-type {\n        vertical-align: middle;\n    }\n\n    .dataframe tbody tr th {\n        vertical-align: top;\n    }\n\n    .dataframe thead th {\n        text-align: right;\n    }\n</style>\n<table border=\"1\" class=\"dataframe\">\n  <thead>\n    <tr style=\"text-align: right;\">\n      <th></th>\n      <th>column 1</th>\n      <th>column 2</th>\n    </tr>\n  </thead>\n  <tbody>\n    <tr>\n      <th>0</th>\n      <td>Looping</td>\n      <td>10</td>\n    </tr>\n    <tr>\n      <th>2</th>\n      <td>Looping</td>\n      <td>22</td>\n    </tr>\n    <tr>\n      <th>3</th>\n      <td>Functions</td>\n      <td>23</td>\n    </tr>\n    <tr>\n      <th>5</th>\n      <td>Functions</td>\n      <td>24</td>\n    </tr>\n  </tbody>\n</table>\n</div>"
     },
     "execution_count": 4,
     "metadata": {},
     "output_type": "execute_result"
    }
   ],
   "source": [
    "df.drop_duplicates()"
   ],
   "metadata": {
    "collapsed": false
   }
  },
  {
   "cell_type": "markdown",
   "source": [
    "### Handling missing or incorrect data\n",
    "\n",
    "It is very often that we receive a noisy dataset with some incorrect or missing measurements. There are many ways how to approach the problem.\n",
    "\n",
    "#### Dropping instances or attributes\n",
    "\n",
    "As discussed earlier, removing information should be done cautiously; let's review some examples:"
   ],
   "metadata": {
    "collapsed": false
   }
  },
  {
   "cell_type": "code",
   "execution_count": 5,
   "outputs": [
    {
     "data": {
      "text/plain": "        store1  store2  store3\napple       15      16      17\nbanana      18      19      20\nkiwi        21      22      23\ngrapes      24      25      26\nmango       27      28      29",
      "text/html": "<div>\n<style scoped>\n    .dataframe tbody tr th:only-of-type {\n        vertical-align: middle;\n    }\n\n    .dataframe tbody tr th {\n        vertical-align: top;\n    }\n\n    .dataframe thead th {\n        text-align: right;\n    }\n</style>\n<table border=\"1\" class=\"dataframe\">\n  <thead>\n    <tr style=\"text-align: right;\">\n      <th></th>\n      <th>store1</th>\n      <th>store2</th>\n      <th>store3</th>\n    </tr>\n  </thead>\n  <tbody>\n    <tr>\n      <th>apple</th>\n      <td>15</td>\n      <td>16</td>\n      <td>17</td>\n    </tr>\n    <tr>\n      <th>banana</th>\n      <td>18</td>\n      <td>19</td>\n      <td>20</td>\n    </tr>\n    <tr>\n      <th>kiwi</th>\n      <td>21</td>\n      <td>22</td>\n      <td>23</td>\n    </tr>\n    <tr>\n      <th>grapes</th>\n      <td>24</td>\n      <td>25</td>\n      <td>26</td>\n    </tr>\n    <tr>\n      <th>mango</th>\n      <td>27</td>\n      <td>28</td>\n      <td>29</td>\n    </tr>\n  </tbody>\n</table>\n</div>"
     },
     "execution_count": 5,
     "metadata": {},
     "output_type": "execute_result"
    }
   ],
   "source": [
    "df = pd.DataFrame(\n",
    "    data=np.arange(15, 30).reshape(5, 3),\n",
    "    index=['apple', 'banana', 'kiwi', 'grapes', 'mango'],\n",
    "    columns=['store1', 'store2', 'store3']\n",
    ")\n",
    "df"
   ],
   "metadata": {
    "collapsed": false
   }
  },
  {
   "cell_type": "markdown",
   "source": [
    "Let's add some noise:"
   ],
   "metadata": {
    "collapsed": false
   }
  },
  {
   "cell_type": "code",
   "execution_count": 6,
   "outputs": [
    {
     "data": {
      "text/plain": "            store1  store2  store3  store4  store5\napple         15.0    16.0    17.0    20.0     NaN\nbanana        18.0    19.0    20.0     NaN     NaN\nkiwi          21.0    22.0    23.0     NaN     NaN\ngrapes        24.0    25.0    26.0     NaN     NaN\nmango         27.0    28.0    29.0     NaN     NaN\nwatermelon    15.0    16.0    17.0    18.0     NaN\noranges        NaN     NaN     NaN     NaN     NaN",
      "text/html": "<div>\n<style scoped>\n    .dataframe tbody tr th:only-of-type {\n        vertical-align: middle;\n    }\n\n    .dataframe tbody tr th {\n        vertical-align: top;\n    }\n\n    .dataframe thead th {\n        text-align: right;\n    }\n</style>\n<table border=\"1\" class=\"dataframe\">\n  <thead>\n    <tr style=\"text-align: right;\">\n      <th></th>\n      <th>store1</th>\n      <th>store2</th>\n      <th>store3</th>\n      <th>store4</th>\n      <th>store5</th>\n    </tr>\n  </thead>\n  <tbody>\n    <tr>\n      <th>apple</th>\n      <td>15.0</td>\n      <td>16.0</td>\n      <td>17.0</td>\n      <td>20.0</td>\n      <td>NaN</td>\n    </tr>\n    <tr>\n      <th>banana</th>\n      <td>18.0</td>\n      <td>19.0</td>\n      <td>20.0</td>\n      <td>NaN</td>\n      <td>NaN</td>\n    </tr>\n    <tr>\n      <th>kiwi</th>\n      <td>21.0</td>\n      <td>22.0</td>\n      <td>23.0</td>\n      <td>NaN</td>\n      <td>NaN</td>\n    </tr>\n    <tr>\n      <th>grapes</th>\n      <td>24.0</td>\n      <td>25.0</td>\n      <td>26.0</td>\n      <td>NaN</td>\n      <td>NaN</td>\n    </tr>\n    <tr>\n      <th>mango</th>\n      <td>27.0</td>\n      <td>28.0</td>\n      <td>29.0</td>\n      <td>NaN</td>\n      <td>NaN</td>\n    </tr>\n    <tr>\n      <th>watermelon</th>\n      <td>15.0</td>\n      <td>16.0</td>\n      <td>17.0</td>\n      <td>18.0</td>\n      <td>NaN</td>\n    </tr>\n    <tr>\n      <th>oranges</th>\n      <td>NaN</td>\n      <td>NaN</td>\n      <td>NaN</td>\n      <td>NaN</td>\n      <td>NaN</td>\n    </tr>\n  </tbody>\n</table>\n</div>"
     },
     "execution_count": 6,
     "metadata": {},
     "output_type": "execute_result"
    }
   ],
   "source": [
    "df['store4'] = np.nan\n",
    "df.loc['watermelon'] = np.arange(15, 19)\n",
    "df.loc['oranges'] = np.nan\n",
    "df['store5'] = np.nan\n",
    "df['store4']['apple'] = 20.\n",
    "df"
   ],
   "metadata": {
    "collapsed": false
   }
  },
  {
   "cell_type": "code",
   "execution_count": 7,
   "outputs": [
    {
     "data": {
      "text/plain": "            store1  store2  store3  store4  store5\napple        False   False   False   False    True\nbanana       False   False   False    True    True\nkiwi         False   False   False    True    True\ngrapes       False   False   False    True    True\nmango        False   False   False    True    True\nwatermelon   False   False   False   False    True\noranges       True    True    True    True    True",
      "text/html": "<div>\n<style scoped>\n    .dataframe tbody tr th:only-of-type {\n        vertical-align: middle;\n    }\n\n    .dataframe tbody tr th {\n        vertical-align: top;\n    }\n\n    .dataframe thead th {\n        text-align: right;\n    }\n</style>\n<table border=\"1\" class=\"dataframe\">\n  <thead>\n    <tr style=\"text-align: right;\">\n      <th></th>\n      <th>store1</th>\n      <th>store2</th>\n      <th>store3</th>\n      <th>store4</th>\n      <th>store5</th>\n    </tr>\n  </thead>\n  <tbody>\n    <tr>\n      <th>apple</th>\n      <td>False</td>\n      <td>False</td>\n      <td>False</td>\n      <td>False</td>\n      <td>True</td>\n    </tr>\n    <tr>\n      <th>banana</th>\n      <td>False</td>\n      <td>False</td>\n      <td>False</td>\n      <td>True</td>\n      <td>True</td>\n    </tr>\n    <tr>\n      <th>kiwi</th>\n      <td>False</td>\n      <td>False</td>\n      <td>False</td>\n      <td>True</td>\n      <td>True</td>\n    </tr>\n    <tr>\n      <th>grapes</th>\n      <td>False</td>\n      <td>False</td>\n      <td>False</td>\n      <td>True</td>\n      <td>True</td>\n    </tr>\n    <tr>\n      <th>mango</th>\n      <td>False</td>\n      <td>False</td>\n      <td>False</td>\n      <td>True</td>\n      <td>True</td>\n    </tr>\n    <tr>\n      <th>watermelon</th>\n      <td>False</td>\n      <td>False</td>\n      <td>False</td>\n      <td>False</td>\n      <td>True</td>\n    </tr>\n    <tr>\n      <th>oranges</th>\n      <td>True</td>\n      <td>True</td>\n      <td>True</td>\n      <td>True</td>\n      <td>True</td>\n    </tr>\n  </tbody>\n</table>\n</div>"
     },
     "execution_count": 7,
     "metadata": {},
     "output_type": "execute_result"
    }
   ],
   "source": [
    "df.isnull()"
   ],
   "metadata": {
    "collapsed": false
   }
  },
  {
   "cell_type": "code",
   "execution_count": 8,
   "outputs": [
    {
     "data": {
      "text/plain": "            store1  store2  store3  store4  store5\napple         True    True    True    True   False\nbanana        True    True    True   False   False\nkiwi          True    True    True   False   False\ngrapes        True    True    True   False   False\nmango         True    True    True   False   False\nwatermelon    True    True    True    True   False\noranges      False   False   False   False   False",
      "text/html": "<div>\n<style scoped>\n    .dataframe tbody tr th:only-of-type {\n        vertical-align: middle;\n    }\n\n    .dataframe tbody tr th {\n        vertical-align: top;\n    }\n\n    .dataframe thead th {\n        text-align: right;\n    }\n</style>\n<table border=\"1\" class=\"dataframe\">\n  <thead>\n    <tr style=\"text-align: right;\">\n      <th></th>\n      <th>store1</th>\n      <th>store2</th>\n      <th>store3</th>\n      <th>store4</th>\n      <th>store5</th>\n    </tr>\n  </thead>\n  <tbody>\n    <tr>\n      <th>apple</th>\n      <td>True</td>\n      <td>True</td>\n      <td>True</td>\n      <td>True</td>\n      <td>False</td>\n    </tr>\n    <tr>\n      <th>banana</th>\n      <td>True</td>\n      <td>True</td>\n      <td>True</td>\n      <td>False</td>\n      <td>False</td>\n    </tr>\n    <tr>\n      <th>kiwi</th>\n      <td>True</td>\n      <td>True</td>\n      <td>True</td>\n      <td>False</td>\n      <td>False</td>\n    </tr>\n    <tr>\n      <th>grapes</th>\n      <td>True</td>\n      <td>True</td>\n      <td>True</td>\n      <td>False</td>\n      <td>False</td>\n    </tr>\n    <tr>\n      <th>mango</th>\n      <td>True</td>\n      <td>True</td>\n      <td>True</td>\n      <td>False</td>\n      <td>False</td>\n    </tr>\n    <tr>\n      <th>watermelon</th>\n      <td>True</td>\n      <td>True</td>\n      <td>True</td>\n      <td>True</td>\n      <td>False</td>\n    </tr>\n    <tr>\n      <th>oranges</th>\n      <td>False</td>\n      <td>False</td>\n      <td>False</td>\n      <td>False</td>\n      <td>False</td>\n    </tr>\n  </tbody>\n</table>\n</div>"
     },
     "execution_count": 8,
     "metadata": {},
     "output_type": "execute_result"
    }
   ],
   "source": [
    "df.notnull()"
   ],
   "metadata": {
    "collapsed": false
   }
  },
  {
   "cell_type": "code",
   "execution_count": 9,
   "outputs": [
    {
     "data": {
      "text/plain": "store1    1\nstore2    1\nstore3    1\nstore4    5\nstore5    7\ndtype: int64"
     },
     "execution_count": 9,
     "metadata": {},
     "output_type": "execute_result"
    }
   ],
   "source": [
    "df.isnull().sum()"
   ],
   "metadata": {
    "collapsed": false
   }
  },
  {
   "cell_type": "code",
   "execution_count": 10,
   "outputs": [
    {
     "data": {
      "text/plain": "apple         20.0\nwatermelon    18.0\nName: store4, dtype: float64"
     },
     "execution_count": 10,
     "metadata": {},
     "output_type": "execute_result"
    }
   ],
   "source": [
    "df['store4'].dropna()"
   ],
   "metadata": {
    "collapsed": false
   }
  },
  {
   "cell_type": "code",
   "execution_count": 11,
   "outputs": [
    {
     "data": {
      "text/plain": "Empty DataFrame\nColumns: [store1, store2, store3, store4, store5]\nIndex: []",
      "text/html": "<div>\n<style scoped>\n    .dataframe tbody tr th:only-of-type {\n        vertical-align: middle;\n    }\n\n    .dataframe tbody tr th {\n        vertical-align: top;\n    }\n\n    .dataframe thead th {\n        text-align: right;\n    }\n</style>\n<table border=\"1\" class=\"dataframe\">\n  <thead>\n    <tr style=\"text-align: right;\">\n      <th></th>\n      <th>store1</th>\n      <th>store2</th>\n      <th>store3</th>\n      <th>store4</th>\n      <th>store5</th>\n    </tr>\n  </thead>\n  <tbody>\n  </tbody>\n</table>\n</div>"
     },
     "execution_count": 11,
     "metadata": {},
     "output_type": "execute_result"
    }
   ],
   "source": [
    "df.dropna()"
   ],
   "metadata": {
    "collapsed": false
   }
  },
  {
   "cell_type": "code",
   "execution_count": 12,
   "outputs": [
    {
     "data": {
      "text/plain": "            store1  store2  store3  store4  store5\napple         15.0    16.0    17.0    20.0     NaN\nbanana        18.0    19.0    20.0     NaN     NaN\nkiwi          21.0    22.0    23.0     NaN     NaN\ngrapes        24.0    25.0    26.0     NaN     NaN\nmango         27.0    28.0    29.0     NaN     NaN\nwatermelon    15.0    16.0    17.0    18.0     NaN",
      "text/html": "<div>\n<style scoped>\n    .dataframe tbody tr th:only-of-type {\n        vertical-align: middle;\n    }\n\n    .dataframe tbody tr th {\n        vertical-align: top;\n    }\n\n    .dataframe thead th {\n        text-align: right;\n    }\n</style>\n<table border=\"1\" class=\"dataframe\">\n  <thead>\n    <tr style=\"text-align: right;\">\n      <th></th>\n      <th>store1</th>\n      <th>store2</th>\n      <th>store3</th>\n      <th>store4</th>\n      <th>store5</th>\n    </tr>\n  </thead>\n  <tbody>\n    <tr>\n      <th>apple</th>\n      <td>15.0</td>\n      <td>16.0</td>\n      <td>17.0</td>\n      <td>20.0</td>\n      <td>NaN</td>\n    </tr>\n    <tr>\n      <th>banana</th>\n      <td>18.0</td>\n      <td>19.0</td>\n      <td>20.0</td>\n      <td>NaN</td>\n      <td>NaN</td>\n    </tr>\n    <tr>\n      <th>kiwi</th>\n      <td>21.0</td>\n      <td>22.0</td>\n      <td>23.0</td>\n      <td>NaN</td>\n      <td>NaN</td>\n    </tr>\n    <tr>\n      <th>grapes</th>\n      <td>24.0</td>\n      <td>25.0</td>\n      <td>26.0</td>\n      <td>NaN</td>\n      <td>NaN</td>\n    </tr>\n    <tr>\n      <th>mango</th>\n      <td>27.0</td>\n      <td>28.0</td>\n      <td>29.0</td>\n      <td>NaN</td>\n      <td>NaN</td>\n    </tr>\n    <tr>\n      <th>watermelon</th>\n      <td>15.0</td>\n      <td>16.0</td>\n      <td>17.0</td>\n      <td>18.0</td>\n      <td>NaN</td>\n    </tr>\n  </tbody>\n</table>\n</div>"
     },
     "execution_count": 12,
     "metadata": {},
     "output_type": "execute_result"
    }
   ],
   "source": [
    "df.dropna(how='all')"
   ],
   "metadata": {
    "collapsed": false
   }
  },
  {
   "cell_type": "code",
   "execution_count": 13,
   "outputs": [
    {
     "data": {
      "text/plain": "            store1  store2  store3  store4\napple         15.0    16.0    17.0    20.0\nbanana        18.0    19.0    20.0     NaN\nkiwi          21.0    22.0    23.0     NaN\ngrapes        24.0    25.0    26.0     NaN\nmango         27.0    28.0    29.0     NaN\nwatermelon    15.0    16.0    17.0    18.0\noranges        NaN     NaN     NaN     NaN",
      "text/html": "<div>\n<style scoped>\n    .dataframe tbody tr th:only-of-type {\n        vertical-align: middle;\n    }\n\n    .dataframe tbody tr th {\n        vertical-align: top;\n    }\n\n    .dataframe thead th {\n        text-align: right;\n    }\n</style>\n<table border=\"1\" class=\"dataframe\">\n  <thead>\n    <tr style=\"text-align: right;\">\n      <th></th>\n      <th>store1</th>\n      <th>store2</th>\n      <th>store3</th>\n      <th>store4</th>\n    </tr>\n  </thead>\n  <tbody>\n    <tr>\n      <th>apple</th>\n      <td>15.0</td>\n      <td>16.0</td>\n      <td>17.0</td>\n      <td>20.0</td>\n    </tr>\n    <tr>\n      <th>banana</th>\n      <td>18.0</td>\n      <td>19.0</td>\n      <td>20.0</td>\n      <td>NaN</td>\n    </tr>\n    <tr>\n      <th>kiwi</th>\n      <td>21.0</td>\n      <td>22.0</td>\n      <td>23.0</td>\n      <td>NaN</td>\n    </tr>\n    <tr>\n      <th>grapes</th>\n      <td>24.0</td>\n      <td>25.0</td>\n      <td>26.0</td>\n      <td>NaN</td>\n    </tr>\n    <tr>\n      <th>mango</th>\n      <td>27.0</td>\n      <td>28.0</td>\n      <td>29.0</td>\n      <td>NaN</td>\n    </tr>\n    <tr>\n      <th>watermelon</th>\n      <td>15.0</td>\n      <td>16.0</td>\n      <td>17.0</td>\n      <td>18.0</td>\n    </tr>\n    <tr>\n      <th>oranges</th>\n      <td>NaN</td>\n      <td>NaN</td>\n      <td>NaN</td>\n      <td>NaN</td>\n    </tr>\n  </tbody>\n</table>\n</div>"
     },
     "execution_count": 13,
     "metadata": {},
     "output_type": "execute_result"
    }
   ],
   "source": [
    "df.dropna(how='all', axis=1)"
   ],
   "metadata": {
    "collapsed": false
   }
  },
  {
   "cell_type": "code",
   "execution_count": 14,
   "outputs": [
    {
     "data": {
      "text/plain": "            store1  store2  store3\napple         15.0    16.0    17.0\nbanana        18.0    19.0    20.0\nkiwi          21.0    22.0    23.0\ngrapes        24.0    25.0    26.0\nmango         27.0    28.0    29.0\nwatermelon    15.0    16.0    17.0\noranges        NaN     NaN     NaN",
      "text/html": "<div>\n<style scoped>\n    .dataframe tbody tr th:only-of-type {\n        vertical-align: middle;\n    }\n\n    .dataframe tbody tr th {\n        vertical-align: top;\n    }\n\n    .dataframe thead th {\n        text-align: right;\n    }\n</style>\n<table border=\"1\" class=\"dataframe\">\n  <thead>\n    <tr style=\"text-align: right;\">\n      <th></th>\n      <th>store1</th>\n      <th>store2</th>\n      <th>store3</th>\n    </tr>\n  </thead>\n  <tbody>\n    <tr>\n      <th>apple</th>\n      <td>15.0</td>\n      <td>16.0</td>\n      <td>17.0</td>\n    </tr>\n    <tr>\n      <th>banana</th>\n      <td>18.0</td>\n      <td>19.0</td>\n      <td>20.0</td>\n    </tr>\n    <tr>\n      <th>kiwi</th>\n      <td>21.0</td>\n      <td>22.0</td>\n      <td>23.0</td>\n    </tr>\n    <tr>\n      <th>grapes</th>\n      <td>24.0</td>\n      <td>25.0</td>\n      <td>26.0</td>\n    </tr>\n    <tr>\n      <th>mango</th>\n      <td>27.0</td>\n      <td>28.0</td>\n      <td>29.0</td>\n    </tr>\n    <tr>\n      <th>watermelon</th>\n      <td>15.0</td>\n      <td>16.0</td>\n      <td>17.0</td>\n    </tr>\n    <tr>\n      <th>oranges</th>\n      <td>NaN</td>\n      <td>NaN</td>\n      <td>NaN</td>\n    </tr>\n  </tbody>\n</table>\n</div>"
     },
     "execution_count": 14,
     "metadata": {},
     "output_type": "execute_result"
    }
   ],
   "source": [
    "df.dropna(thresh=5, axis=1)"
   ],
   "metadata": {
    "collapsed": false
   }
  },
  {
   "cell_type": "markdown",
   "source": [
    "#### Replacing values\n",
    "\n",
    "This is the easiest option if you have any domain knowledge of how wrong or missing values should be treated."
   ],
   "metadata": {
    "collapsed": false
   }
  },
  {
   "cell_type": "code",
   "execution_count": 15,
   "outputs": [
    {
     "data": {
      "text/plain": "   column 1  column 2\n0     200.0         0\n1    3000.0         1\n2       NaN         2\n3    3000.0         3\n4     234.0         4\n5     444.0         5\n6       NaN         6\n7     332.0         7\n8    3332.0         8",
      "text/html": "<div>\n<style scoped>\n    .dataframe tbody tr th:only-of-type {\n        vertical-align: middle;\n    }\n\n    .dataframe tbody tr th {\n        vertical-align: top;\n    }\n\n    .dataframe thead th {\n        text-align: right;\n    }\n</style>\n<table border=\"1\" class=\"dataframe\">\n  <thead>\n    <tr style=\"text-align: right;\">\n      <th></th>\n      <th>column 1</th>\n      <th>column 2</th>\n    </tr>\n  </thead>\n  <tbody>\n    <tr>\n      <th>0</th>\n      <td>200.0</td>\n      <td>0</td>\n    </tr>\n    <tr>\n      <th>1</th>\n      <td>3000.0</td>\n      <td>1</td>\n    </tr>\n    <tr>\n      <th>2</th>\n      <td>NaN</td>\n      <td>2</td>\n    </tr>\n    <tr>\n      <th>3</th>\n      <td>3000.0</td>\n      <td>3</td>\n    </tr>\n    <tr>\n      <th>4</th>\n      <td>234.0</td>\n      <td>4</td>\n    </tr>\n    <tr>\n      <th>5</th>\n      <td>444.0</td>\n      <td>5</td>\n    </tr>\n    <tr>\n      <th>6</th>\n      <td>NaN</td>\n      <td>6</td>\n    </tr>\n    <tr>\n      <th>7</th>\n      <td>332.0</td>\n      <td>7</td>\n    </tr>\n    <tr>\n      <th>8</th>\n      <td>3332.0</td>\n      <td>8</td>\n    </tr>\n  </tbody>\n</table>\n</div>"
     },
     "execution_count": 15,
     "metadata": {},
     "output_type": "execute_result"
    }
   ],
   "source": [
    "df = pd.DataFrame(\n",
    "    {\n",
    "        'column 1': [200., 3000., np.nan, 3000., 234., 444., np.nan, 332., 3332.],\n",
    "        'column 2': range(9)\n",
    "    }\n",
    ")\n",
    "df"
   ],
   "metadata": {
    "collapsed": false
   }
  },
  {
   "cell_type": "code",
   "execution_count": 16,
   "outputs": [
    {
     "data": {
      "text/plain": "   column 1  column 2\n0     200.0         0\n1    3000.0         1\n2       0.0         2\n3    3000.0         3\n4     234.0         4\n5     444.0         5\n6       0.0         6\n7     332.0         7\n8    3332.0         8",
      "text/html": "<div>\n<style scoped>\n    .dataframe tbody tr th:only-of-type {\n        vertical-align: middle;\n    }\n\n    .dataframe tbody tr th {\n        vertical-align: top;\n    }\n\n    .dataframe thead th {\n        text-align: right;\n    }\n</style>\n<table border=\"1\" class=\"dataframe\">\n  <thead>\n    <tr style=\"text-align: right;\">\n      <th></th>\n      <th>column 1</th>\n      <th>column 2</th>\n    </tr>\n  </thead>\n  <tbody>\n    <tr>\n      <th>0</th>\n      <td>200.0</td>\n      <td>0</td>\n    </tr>\n    <tr>\n      <th>1</th>\n      <td>3000.0</td>\n      <td>1</td>\n    </tr>\n    <tr>\n      <th>2</th>\n      <td>0.0</td>\n      <td>2</td>\n    </tr>\n    <tr>\n      <th>3</th>\n      <td>3000.0</td>\n      <td>3</td>\n    </tr>\n    <tr>\n      <th>4</th>\n      <td>234.0</td>\n      <td>4</td>\n    </tr>\n    <tr>\n      <th>5</th>\n      <td>444.0</td>\n      <td>5</td>\n    </tr>\n    <tr>\n      <th>6</th>\n      <td>0.0</td>\n      <td>6</td>\n    </tr>\n    <tr>\n      <th>7</th>\n      <td>332.0</td>\n      <td>7</td>\n    </tr>\n    <tr>\n      <th>8</th>\n      <td>3332.0</td>\n      <td>8</td>\n    </tr>\n  </tbody>\n</table>\n</div>"
     },
     "execution_count": 16,
     "metadata": {},
     "output_type": "execute_result"
    }
   ],
   "source": [
    "df.replace(to_replace=np.nan, value=0.0)"
   ],
   "metadata": {
    "collapsed": false
   }
  },
  {
   "cell_type": "markdown",
   "source": [
    "#### Filling in missing data\n",
    "\n",
    "Let's start with some basics techniques:"
   ],
   "metadata": {
    "collapsed": false
   }
  },
  {
   "cell_type": "code",
   "execution_count": 17,
   "outputs": [
    {
     "data": {
      "text/plain": "            store1  store2  store3  store4  store5\napple         15.0    16.0    17.0    20.0     NaN\nbanana        18.0    19.0    20.0     NaN     NaN\nkiwi          21.0    22.0    23.0     NaN     NaN\ngrapes        24.0    25.0    26.0     NaN     NaN\nmango         27.0    28.0    29.0     NaN     NaN\nwatermelon    15.0    16.0    17.0    18.0     NaN\noranges        NaN     NaN     NaN     NaN     NaN",
      "text/html": "<div>\n<style scoped>\n    .dataframe tbody tr th:only-of-type {\n        vertical-align: middle;\n    }\n\n    .dataframe tbody tr th {\n        vertical-align: top;\n    }\n\n    .dataframe thead th {\n        text-align: right;\n    }\n</style>\n<table border=\"1\" class=\"dataframe\">\n  <thead>\n    <tr style=\"text-align: right;\">\n      <th></th>\n      <th>store1</th>\n      <th>store2</th>\n      <th>store3</th>\n      <th>store4</th>\n      <th>store5</th>\n    </tr>\n  </thead>\n  <tbody>\n    <tr>\n      <th>apple</th>\n      <td>15.0</td>\n      <td>16.0</td>\n      <td>17.0</td>\n      <td>20.0</td>\n      <td>NaN</td>\n    </tr>\n    <tr>\n      <th>banana</th>\n      <td>18.0</td>\n      <td>19.0</td>\n      <td>20.0</td>\n      <td>NaN</td>\n      <td>NaN</td>\n    </tr>\n    <tr>\n      <th>kiwi</th>\n      <td>21.0</td>\n      <td>22.0</td>\n      <td>23.0</td>\n      <td>NaN</td>\n      <td>NaN</td>\n    </tr>\n    <tr>\n      <th>grapes</th>\n      <td>24.0</td>\n      <td>25.0</td>\n      <td>26.0</td>\n      <td>NaN</td>\n      <td>NaN</td>\n    </tr>\n    <tr>\n      <th>mango</th>\n      <td>27.0</td>\n      <td>28.0</td>\n      <td>29.0</td>\n      <td>NaN</td>\n      <td>NaN</td>\n    </tr>\n    <tr>\n      <th>watermelon</th>\n      <td>15.0</td>\n      <td>16.0</td>\n      <td>17.0</td>\n      <td>18.0</td>\n      <td>NaN</td>\n    </tr>\n    <tr>\n      <th>oranges</th>\n      <td>NaN</td>\n      <td>NaN</td>\n      <td>NaN</td>\n      <td>NaN</td>\n      <td>NaN</td>\n    </tr>\n  </tbody>\n</table>\n</div>"
     },
     "execution_count": 17,
     "metadata": {},
     "output_type": "execute_result"
    }
   ],
   "source": [
    "df = pd.DataFrame(\n",
    "    data=np.arange(15, 30).reshape(5, 3),\n",
    "    index=['apple', 'banana', 'kiwi', 'grapes', 'mango'],\n",
    "    columns=['store1', 'store2', 'store3']\n",
    ")\n",
    "df['store4'] = np.nan\n",
    "df.loc['watermelon'] = np.arange(15, 19)\n",
    "df.loc['oranges'] = np.nan\n",
    "df['store5'] = np.nan\n",
    "df['store4']['apple'] = 20.\n",
    "df"
   ],
   "metadata": {
    "collapsed": false
   }
  },
  {
   "cell_type": "markdown",
   "source": [
    "Let's fill missing values with a constant:"
   ],
   "metadata": {
    "collapsed": false
   }
  },
  {
   "cell_type": "code",
   "execution_count": 18,
   "outputs": [
    {
     "data": {
      "text/plain": "            store1  store2  store3  store4  store5\napple         15.0    16.0    17.0    20.0     0.0\nbanana        18.0    19.0    20.0     0.0     0.0\nkiwi          21.0    22.0    23.0     0.0     0.0\ngrapes        24.0    25.0    26.0     0.0     0.0\nmango         27.0    28.0    29.0     0.0     0.0\nwatermelon    15.0    16.0    17.0    18.0     0.0\noranges        0.0     0.0     0.0     0.0     0.0",
      "text/html": "<div>\n<style scoped>\n    .dataframe tbody tr th:only-of-type {\n        vertical-align: middle;\n    }\n\n    .dataframe tbody tr th {\n        vertical-align: top;\n    }\n\n    .dataframe thead th {\n        text-align: right;\n    }\n</style>\n<table border=\"1\" class=\"dataframe\">\n  <thead>\n    <tr style=\"text-align: right;\">\n      <th></th>\n      <th>store1</th>\n      <th>store2</th>\n      <th>store3</th>\n      <th>store4</th>\n      <th>store5</th>\n    </tr>\n  </thead>\n  <tbody>\n    <tr>\n      <th>apple</th>\n      <td>15.0</td>\n      <td>16.0</td>\n      <td>17.0</td>\n      <td>20.0</td>\n      <td>0.0</td>\n    </tr>\n    <tr>\n      <th>banana</th>\n      <td>18.0</td>\n      <td>19.0</td>\n      <td>20.0</td>\n      <td>0.0</td>\n      <td>0.0</td>\n    </tr>\n    <tr>\n      <th>kiwi</th>\n      <td>21.0</td>\n      <td>22.0</td>\n      <td>23.0</td>\n      <td>0.0</td>\n      <td>0.0</td>\n    </tr>\n    <tr>\n      <th>grapes</th>\n      <td>24.0</td>\n      <td>25.0</td>\n      <td>26.0</td>\n      <td>0.0</td>\n      <td>0.0</td>\n    </tr>\n    <tr>\n      <th>mango</th>\n      <td>27.0</td>\n      <td>28.0</td>\n      <td>29.0</td>\n      <td>0.0</td>\n      <td>0.0</td>\n    </tr>\n    <tr>\n      <th>watermelon</th>\n      <td>15.0</td>\n      <td>16.0</td>\n      <td>17.0</td>\n      <td>18.0</td>\n      <td>0.0</td>\n    </tr>\n    <tr>\n      <th>oranges</th>\n      <td>0.0</td>\n      <td>0.0</td>\n      <td>0.0</td>\n      <td>0.0</td>\n      <td>0.0</td>\n    </tr>\n  </tbody>\n</table>\n</div>"
     },
     "execution_count": 18,
     "metadata": {},
     "output_type": "execute_result"
    }
   ],
   "source": [
    "filled_df = df.fillna(0)\n",
    "filled_df"
   ],
   "metadata": {
    "collapsed": false
   }
  },
  {
   "cell_type": "markdown",
   "source": [
    "It might introduce some bias:"
   ],
   "metadata": {
    "collapsed": false
   }
  },
  {
   "cell_type": "code",
   "execution_count": 19,
   "outputs": [
    {
     "data": {
      "text/plain": "store1    20.0\nstore2    21.0\nstore3    22.0\nstore4    19.0\nstore5     NaN\ndtype: float64"
     },
     "execution_count": 19,
     "metadata": {},
     "output_type": "execute_result"
    }
   ],
   "source": [
    "df.mean()"
   ],
   "metadata": {
    "collapsed": false
   }
  },
  {
   "cell_type": "code",
   "execution_count": 20,
   "outputs": [
    {
     "data": {
      "text/plain": "store1    17.142857\nstore2    18.000000\nstore3    18.857143\nstore4     5.428571\nstore5     0.000000\ndtype: float64"
     },
     "execution_count": 20,
     "metadata": {},
     "output_type": "execute_result"
    }
   ],
   "source": [
    "filled_df.mean()"
   ],
   "metadata": {
    "collapsed": false
   }
  },
  {
   "cell_type": "markdown",
   "source": [
    "There are also more sophisticated options, for example, let's fill values by mean:"
   ],
   "metadata": {
    "collapsed": false
   }
  },
  {
   "cell_type": "code",
   "execution_count": 21,
   "outputs": [
    {
     "data": {
      "text/plain": "            store1  store2  store3  store4  store5\napple         15.0    16.0    17.0    20.0    17.0\nbanana        18.0    19.0    20.0    19.0    19.0\nkiwi          21.0    22.0    23.0    22.0    22.0\ngrapes        24.0    25.0    26.0    25.0    25.0\nmango         27.0    28.0    29.0    28.0    28.0\nwatermelon    15.0    16.0    17.0    18.0    16.5",
      "text/html": "<div>\n<style scoped>\n    .dataframe tbody tr th:only-of-type {\n        vertical-align: middle;\n    }\n\n    .dataframe tbody tr th {\n        vertical-align: top;\n    }\n\n    .dataframe thead th {\n        text-align: right;\n    }\n</style>\n<table border=\"1\" class=\"dataframe\">\n  <thead>\n    <tr style=\"text-align: right;\">\n      <th></th>\n      <th>store1</th>\n      <th>store2</th>\n      <th>store3</th>\n      <th>store4</th>\n      <th>store5</th>\n    </tr>\n  </thead>\n  <tbody>\n    <tr>\n      <th>apple</th>\n      <td>15.0</td>\n      <td>16.0</td>\n      <td>17.0</td>\n      <td>20.0</td>\n      <td>17.0</td>\n    </tr>\n    <tr>\n      <th>banana</th>\n      <td>18.0</td>\n      <td>19.0</td>\n      <td>20.0</td>\n      <td>19.0</td>\n      <td>19.0</td>\n    </tr>\n    <tr>\n      <th>kiwi</th>\n      <td>21.0</td>\n      <td>22.0</td>\n      <td>23.0</td>\n      <td>22.0</td>\n      <td>22.0</td>\n    </tr>\n    <tr>\n      <th>grapes</th>\n      <td>24.0</td>\n      <td>25.0</td>\n      <td>26.0</td>\n      <td>25.0</td>\n      <td>25.0</td>\n    </tr>\n    <tr>\n      <th>mango</th>\n      <td>27.0</td>\n      <td>28.0</td>\n      <td>29.0</td>\n      <td>28.0</td>\n      <td>28.0</td>\n    </tr>\n    <tr>\n      <th>watermelon</th>\n      <td>15.0</td>\n      <td>16.0</td>\n      <td>17.0</td>\n      <td>18.0</td>\n      <td>16.5</td>\n    </tr>\n  </tbody>\n</table>\n</div>"
     },
     "execution_count": 21,
     "metadata": {},
     "output_type": "execute_result"
    }
   ],
   "source": [
    "imp = impute.SimpleImputer(strategy='mean')\n",
    "\n",
    "filled_df = df.copy().dropna(how='all')\n",
    "filled_df[:] = imp.fit_transform(df.T).T\n",
    "filled_df"
   ],
   "metadata": {
    "collapsed": false
   }
  },
  {
   "cell_type": "markdown",
   "source": [
    "### Data Transformations\n",
    "\n",
    "Let's review some techniques that should help you to transform data into a form that is required by the ML task/algorithm.\n",
    "\n",
    "#### Discretization\n",
    "\n",
    "Discretization (known as quantization or binning) allows the partitioning of continuous features into discrete values. Specific datasets may benefit from discretization."
   ],
   "metadata": {
    "collapsed": false
   }
  },
  {
   "cell_type": "code",
   "execution_count": 22,
   "outputs": [
    {
     "data": {
      "text/plain": "[(118, 125], (118, 125], (118, 125], (125, 135], (118, 125], ..., (125, 135], (160, 200], (135, 160], (135, 160], (125, 135]]\nLength: 12\nCategories (4, interval[int64, right]): [(118, 125] < (125, 135] < (135, 160] < (160, 200]]"
     },
     "execution_count": 22,
     "metadata": {},
     "output_type": "execute_result"
    }
   ],
   "source": [
    "height = [120, 122, 125, 127, 121, 123, 137, 131, 161, 145, 141, 132]\n",
    "bins = [118, 125, 135, 160, 200]\n",
    "\n",
    "category = pd.cut(height, bins)\n",
    "category"
   ],
   "metadata": {
    "collapsed": false
   }
  },
  {
   "cell_type": "code",
   "execution_count": 23,
   "outputs": [
    {
     "data": {
      "text/plain": "(118, 125]    5\n(125, 135]    3\n(135, 160]    3\n(160, 200]    1\ndtype: int64"
     },
     "execution_count": 23,
     "metadata": {},
     "output_type": "execute_result"
    }
   ],
   "source": [
    "pd.value_counts(category)"
   ],
   "metadata": {
    "collapsed": false
   }
  },
  {
   "cell_type": "markdown",
   "source": [
    "Luckily, we do not have to reinvent the wheel, as sklearn already has some transformations in place for this case. For example:"
   ],
   "metadata": {
    "collapsed": false
   }
  },
  {
   "cell_type": "code",
   "execution_count": 24,
   "outputs": [
    {
     "data": {
      "text/plain": "     0    1     2\n0 -3.0  5.0  15.0\n1  0.0  6.0  14.0\n2  6.0  3.0  11.0",
      "text/html": "<div>\n<style scoped>\n    .dataframe tbody tr th:only-of-type {\n        vertical-align: middle;\n    }\n\n    .dataframe tbody tr th {\n        vertical-align: top;\n    }\n\n    .dataframe thead th {\n        text-align: right;\n    }\n</style>\n<table border=\"1\" class=\"dataframe\">\n  <thead>\n    <tr style=\"text-align: right;\">\n      <th></th>\n      <th>0</th>\n      <th>1</th>\n      <th>2</th>\n    </tr>\n  </thead>\n  <tbody>\n    <tr>\n      <th>0</th>\n      <td>-3.0</td>\n      <td>5.0</td>\n      <td>15.0</td>\n    </tr>\n    <tr>\n      <th>1</th>\n      <td>0.0</td>\n      <td>6.0</td>\n      <td>14.0</td>\n    </tr>\n    <tr>\n      <th>2</th>\n      <td>6.0</td>\n      <td>3.0</td>\n      <td>11.0</td>\n    </tr>\n  </tbody>\n</table>\n</div>"
     },
     "execution_count": 24,
     "metadata": {},
     "output_type": "execute_result"
    }
   ],
   "source": [
    "df = pd.DataFrame(np.array([[-3., 5., 15], [0., 6., 14], [6., 3., 11]]))\n",
    "df"
   ],
   "metadata": {
    "collapsed": false
   }
  },
  {
   "cell_type": "code",
   "execution_count": 25,
   "outputs": [
    {
     "data": {
      "text/plain": "array([[0., 1., 1.],\n       [1., 1., 1.],\n       [2., 0., 0.]])"
     },
     "execution_count": 25,
     "metadata": {},
     "output_type": "execute_result"
    }
   ],
   "source": [
    "preprocessing.KBinsDiscretizer(n_bins=[3, 2, 2], encode='ordinal').fit_transform(df)"
   ],
   "metadata": {
    "collapsed": false
   }
  },
  {
   "cell_type": "markdown",
   "source": [
    "#### Encoding Variables\n",
    "\n",
    "Often features are not given as continuous values but as categorical. ML algorithms do not always support such representation. In that case, we might need to apply different encodings:"
   ],
   "metadata": {
    "collapsed": false
   }
  },
  {
   "cell_type": "code",
   "execution_count": 26,
   "outputs": [
    {
     "data": {
      "text/plain": "    gender  votes\n0   female      6\n1   female      7\n2     male      8\n3  unknown      9\n4     male     10\n5   female     11",
      "text/html": "<div>\n<style scoped>\n    .dataframe tbody tr th:only-of-type {\n        vertical-align: middle;\n    }\n\n    .dataframe tbody tr th {\n        vertical-align: top;\n    }\n\n    .dataframe thead th {\n        text-align: right;\n    }\n</style>\n<table border=\"1\" class=\"dataframe\">\n  <thead>\n    <tr style=\"text-align: right;\">\n      <th></th>\n      <th>gender</th>\n      <th>votes</th>\n    </tr>\n  </thead>\n  <tbody>\n    <tr>\n      <th>0</th>\n      <td>female</td>\n      <td>6</td>\n    </tr>\n    <tr>\n      <th>1</th>\n      <td>female</td>\n      <td>7</td>\n    </tr>\n    <tr>\n      <th>2</th>\n      <td>male</td>\n      <td>8</td>\n    </tr>\n    <tr>\n      <th>3</th>\n      <td>unknown</td>\n      <td>9</td>\n    </tr>\n    <tr>\n      <th>4</th>\n      <td>male</td>\n      <td>10</td>\n    </tr>\n    <tr>\n      <th>5</th>\n      <td>female</td>\n      <td>11</td>\n    </tr>\n  </tbody>\n</table>\n</div>"
     },
     "execution_count": 26,
     "metadata": {},
     "output_type": "execute_result"
    }
   ],
   "source": [
    "df = pd.DataFrame(\n",
    "    {\n",
    "        'gender': ['female', 'female', 'male', 'unknown', 'male', 'female'],\n",
    "        'votes': range(6, 12, 1)\n",
    "    }\n",
    ")\n",
    "df"
   ],
   "metadata": {
    "collapsed": false
   }
  },
  {
   "cell_type": "code",
   "execution_count": 27,
   "outputs": [
    {
     "data": {
      "text/plain": "   female  male  unknown\n0       1     0        0\n1       1     0        0\n2       0     1        0\n3       0     0        1\n4       0     1        0\n5       1     0        0",
      "text/html": "<div>\n<style scoped>\n    .dataframe tbody tr th:only-of-type {\n        vertical-align: middle;\n    }\n\n    .dataframe tbody tr th {\n        vertical-align: top;\n    }\n\n    .dataframe thead th {\n        text-align: right;\n    }\n</style>\n<table border=\"1\" class=\"dataframe\">\n  <thead>\n    <tr style=\"text-align: right;\">\n      <th></th>\n      <th>female</th>\n      <th>male</th>\n      <th>unknown</th>\n    </tr>\n  </thead>\n  <tbody>\n    <tr>\n      <th>0</th>\n      <td>1</td>\n      <td>0</td>\n      <td>0</td>\n    </tr>\n    <tr>\n      <th>1</th>\n      <td>1</td>\n      <td>0</td>\n      <td>0</td>\n    </tr>\n    <tr>\n      <th>2</th>\n      <td>0</td>\n      <td>1</td>\n      <td>0</td>\n    </tr>\n    <tr>\n      <th>3</th>\n      <td>0</td>\n      <td>0</td>\n      <td>1</td>\n    </tr>\n    <tr>\n      <th>4</th>\n      <td>0</td>\n      <td>1</td>\n      <td>0</td>\n    </tr>\n    <tr>\n      <th>5</th>\n      <td>1</td>\n      <td>0</td>\n      <td>0</td>\n    </tr>\n  </tbody>\n</table>\n</div>"
     },
     "execution_count": 27,
     "metadata": {},
     "output_type": "execute_result"
    }
   ],
   "source": [
    "pd.get_dummies(df['gender'])"
   ],
   "metadata": {
    "collapsed": false
   }
  },
  {
   "cell_type": "markdown",
   "source": [
    "Or with help of sklearn:"
   ],
   "metadata": {
    "collapsed": false
   }
  },
  {
   "cell_type": "code",
   "execution_count": 28,
   "outputs": [
    {
     "data": {
      "text/plain": "array([[1., 0., 0.],\n       [1., 0., 0.],\n       [0., 1., 0.],\n       [0., 0., 1.],\n       [0., 1., 0.],\n       [1., 0., 0.]])"
     },
     "execution_count": 28,
     "metadata": {},
     "output_type": "execute_result"
    }
   ],
   "source": [
    "preprocessing.OneHotEncoder().fit_transform(df[['gender']]).toarray()"
   ],
   "metadata": {
    "collapsed": false
   }
  },
  {
   "cell_type": "markdown",
   "source": [
    "#### Standardization, or mean removal, variance scaling, and non-linear transformations\n",
    "\n",
    "Many ML algorithms might have some requirements for input distributions of features. It might also be beneficial to transform a feature distribution as it can significantly improve convergence speed or lead to better performance. Let's review some techniques:"
   ],
   "metadata": {
    "collapsed": false
   }
  },
  {
   "cell_type": "code",
   "execution_count": 29,
   "outputs": [
    {
     "data": {
      "text/plain": "   sepal length (cm)  sepal width (cm)  petal length (cm)  petal width (cm)\n0                5.1               3.5                1.4               0.2\n1                4.9               3.0                1.4               0.2\n2                4.7               3.2                1.3               0.2\n3                4.6               3.1                1.5               0.2\n4                5.0               3.6                1.4               0.2",
      "text/html": "<div>\n<style scoped>\n    .dataframe tbody tr th:only-of-type {\n        vertical-align: middle;\n    }\n\n    .dataframe tbody tr th {\n        vertical-align: top;\n    }\n\n    .dataframe thead th {\n        text-align: right;\n    }\n</style>\n<table border=\"1\" class=\"dataframe\">\n  <thead>\n    <tr style=\"text-align: right;\">\n      <th></th>\n      <th>sepal length (cm)</th>\n      <th>sepal width (cm)</th>\n      <th>petal length (cm)</th>\n      <th>petal width (cm)</th>\n    </tr>\n  </thead>\n  <tbody>\n    <tr>\n      <th>0</th>\n      <td>5.1</td>\n      <td>3.5</td>\n      <td>1.4</td>\n      <td>0.2</td>\n    </tr>\n    <tr>\n      <th>1</th>\n      <td>4.9</td>\n      <td>3.0</td>\n      <td>1.4</td>\n      <td>0.2</td>\n    </tr>\n    <tr>\n      <th>2</th>\n      <td>4.7</td>\n      <td>3.2</td>\n      <td>1.3</td>\n      <td>0.2</td>\n    </tr>\n    <tr>\n      <th>3</th>\n      <td>4.6</td>\n      <td>3.1</td>\n      <td>1.5</td>\n      <td>0.2</td>\n    </tr>\n    <tr>\n      <th>4</th>\n      <td>5.0</td>\n      <td>3.6</td>\n      <td>1.4</td>\n      <td>0.2</td>\n    </tr>\n  </tbody>\n</table>\n</div>"
     },
     "execution_count": 29,
     "metadata": {},
     "output_type": "execute_result"
    }
   ],
   "source": [
    "from sklearn.datasets import load_iris\n",
    "\n",
    "iris_data = load_iris(as_frame=True)\n",
    "df = pd.DataFrame(data=iris_data.data, columns=iris_data.feature_names)\n",
    "df.head()"
   ],
   "metadata": {
    "collapsed": false
   }
  },
  {
   "cell_type": "markdown",
   "source": [
    "Let's standardize features:"
   ],
   "metadata": {
    "collapsed": false
   }
  },
  {
   "cell_type": "code",
   "execution_count": 30,
   "outputs": [
    {
     "data": {
      "text/plain": "array([[-0.90068117,  1.01900435, -1.34022653, -1.3154443 ],\n       [-1.14301691, -0.13197948, -1.34022653, -1.3154443 ],\n       [-1.38535265,  0.32841405, -1.39706395, -1.3154443 ],\n       [-1.50652052,  0.09821729, -1.2833891 , -1.3154443 ],\n       [-1.02184904,  1.24920112, -1.34022653, -1.3154443 ],\n       [-0.53717756,  1.93979142, -1.16971425, -1.05217993],\n       [-1.50652052,  0.78880759, -1.34022653, -1.18381211],\n       [-1.02184904,  0.78880759, -1.2833891 , -1.3154443 ],\n       [-1.74885626, -0.36217625, -1.34022653, -1.3154443 ],\n       [-1.14301691,  0.09821729, -1.2833891 , -1.44707648]])"
     },
     "execution_count": 30,
     "metadata": {},
     "output_type": "execute_result"
    }
   ],
   "source": [
    "preprocessing.StandardScaler().fit_transform(df)[:10]"
   ],
   "metadata": {
    "collapsed": false
   }
  },
  {
   "cell_type": "markdown",
   "source": [
    "Or convert features to be in a range:"
   ],
   "metadata": {
    "collapsed": false
   }
  },
  {
   "cell_type": "code",
   "execution_count": 31,
   "outputs": [
    {
     "data": {
      "text/plain": "array([[0.22222222, 0.625     , 0.06779661, 0.04166667],\n       [0.16666667, 0.41666667, 0.06779661, 0.04166667],\n       [0.11111111, 0.5       , 0.05084746, 0.04166667],\n       [0.08333333, 0.45833333, 0.08474576, 0.04166667],\n       [0.19444444, 0.66666667, 0.06779661, 0.04166667],\n       [0.30555556, 0.79166667, 0.11864407, 0.125     ],\n       [0.08333333, 0.58333333, 0.06779661, 0.08333333],\n       [0.19444444, 0.58333333, 0.08474576, 0.04166667],\n       [0.02777778, 0.375     , 0.06779661, 0.04166667],\n       [0.16666667, 0.45833333, 0.08474576, 0.        ]])"
     },
     "execution_count": 31,
     "metadata": {},
     "output_type": "execute_result"
    }
   ],
   "source": [
    "preprocessing.MinMaxScaler().fit_transform(df)[:10]"
   ],
   "metadata": {
    "collapsed": false
   }
  },
  {
   "cell_type": "markdown",
   "source": [
    "Or map features to a different distribution:"
   ],
   "metadata": {
    "collapsed": false
   }
  },
  {
   "cell_type": "code",
   "execution_count": 32,
   "outputs": [
    {
     "data": {
      "text/plain": "array([[0.22222222, 0.83333333, 0.11111111, 0.11111111],\n       [0.11111111, 0.44444444, 0.11111111, 0.11111111],\n       [0.07407407, 0.66666667, 0.08333333, 0.11111111],\n       [0.05555556, 0.57575758, 0.22222222, 0.11111111],\n       [0.16666667, 0.88888889, 0.11111111, 0.11111111],\n       [0.33333333, 0.93055556, 0.24183007, 0.25423729],\n       [0.05555556, 0.77777778, 0.11111111, 0.23728814],\n       [0.16666667, 0.77777778, 0.22222222, 0.11111111],\n       [0.01851852, 0.33333333, 0.11111111, 0.11111111],\n       [0.11111111, 0.57575758, 0.22222222, 0.        ]])"
     },
     "execution_count": 32,
     "metadata": {},
     "output_type": "execute_result"
    }
   ],
   "source": [
    "preprocessing.QuantileTransformer(n_quantiles=10).fit_transform(df)[:10]"
   ],
   "metadata": {
    "collapsed": false
   }
  },
  {
   "cell_type": "markdown",
   "source": [
    "## Exercises\n",
    "\n",
    "#### Try to add some new features as a combination of the available ones to a dataset. Do a simple EDA to analyze patterns.\n",
    "\n",
    "Often it’s helpful to add complexity to a model by considering nonlinear features of the input data. Review implementation of [polynomial features](https://scikit-learn.org/stable/modules/generated/sklearn.preprocessing.PolynomialFeatures.html#sklearn.preprocessing.PolynomialFeatures) and apply it to the Titanic dataset."
   ],
   "metadata": {
    "collapsed": false
   }
  },
  {
   "cell_type": "code",
   "execution_count": 33,
   "outputs": [],
   "source": [
    "# load the dataset\n",
    "titanic_url = 'https://web.stanford.edu/class/archive/cs/cs109/cs109.1166/stuff/titanic.csv'\n",
    "titanic_data = pd.read_csv(titanic_url)\n",
    "\n",
    "# TODO: your answer here"
   ],
   "metadata": {
    "collapsed": false
   }
  },
  {
   "cell_type": "markdown",
   "source": [
    "## Resources\n",
    "\n",
    "```{bibliography}\n",
    ":filter: docname in docnames\n",
    "```"
   ],
   "metadata": {
    "collapsed": false
   }
  }
 ],
 "metadata": {
  "kernelspec": {
   "display_name": "Python 3",
   "language": "python",
   "name": "python3"
  },
  "language_info": {
   "codemirror_mode": {
    "name": "ipython",
    "version": 2
   },
   "file_extension": ".py",
   "mimetype": "text/x-python",
   "name": "python",
   "nbconvert_exporter": "python",
   "pygments_lexer": "ipython2",
   "version": "2.7.6"
  }
 },
 "nbformat": 4,
 "nbformat_minor": 0
}
