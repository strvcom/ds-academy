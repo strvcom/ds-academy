{
 "cells": [
  {
   "cell_type": "markdown",
   "id": "2a9865b8",
   "metadata": {},
   "source": [
    "# Deployment into Cloud"
   ]
  },
  {
   "cell_type": "markdown",
   "id": "caa3b7ad",
   "metadata": {},
   "source": [
    "## Containerizing the App"
   ]
  },
  {
   "cell_type": "markdown",
   "id": "d2966e6e",
   "metadata": {},
   "source": [
    "## Deployment into Cloud Service\n",
    "\n",
    "Within the following example, we will deploy our app to [Heroku](https://www.heroku.com).\n",
    "\n",
    "Heroku is a cloud platform as a service (PaaS) that allows applications to be hosted on the cloud. \n",
    "With a few limitations, Heroku has been offering free tier for smaller applications. \n",
    "Their pricing plan will change at the end of the November 2022, so for purposes of the DS Academy 2022, we can \n",
    "still benefit from the current pricing plan. Within the free plan, we are able to connect Heroku directly \n",
    "to our GitHub repository, and deploy code from there.\n",
    "\n",
    "The following manual describes what needs to be done for it.\n",
    "\n",
    "### Setup GitHub repository\n",
    "\n",
    "At the beginning, we need to set up the public GitHub repository, and push our application scripts into it.\n",
    "\n",
    "1. Create public GitHub repository. \n",
    "1. Based on [this example repository](https://github.com/jardabezdek/api-titanic-survival-model), \n",
    "create the following files needed for the deployment.\n",
    "\n",
    "    1. `api.py`\n",
    "    \n",
    "    The file with the main functionality, parameters definition, and user input checks. It is not \n",
    "    necessary to stick to the file name, but it is used on other spots, so if changed, it needs to be changed\n",
    "    accordingly elsewhere.\n",
    "    \n",
    "    1. `requirements.txt`\n",
    "    \n",
    "    File with python dependencies list. These dependencies are installed on Heroku during deployment process, so\n",
    "    be aware of listing everything you need! On the other hand, there is a memory limit of 512 MB per \n",
    "    application, so list only the necessary libraries!\n",
    "    \n",
    "    1. `Procfile`\n",
    "    \n",
    "    Heroku specific file which is used to define the command that runs the application. \n",
    "    \n",
    "    In case of API service, written in FastAPI, the content will (probably) look like this.\n",
    "    \n",
    "    ```\n",
    "    web: uvicorn api:app --host 0.0.0.0 --port=${PORT:-5000}\n",
    "    ```\n",
    "    \n",
    "    In case of the web application, written using streamlit, the content could look like this.\n",
    "    \n",
    "    ```\n",
    "    web: streamlit run path/to/app.py\n",
    "    ```\n",
    "\n",
    "### Setup Heroku account & app\n",
    "\n",
    "In the second phase, we can go to Heroku web UI, and set up the deployment process for our appliaction.\n",
    "\n",
    "1. Go to [Heroku website](https://www.heroku.com), and create an account for free.\n",
    "1. Create an app. \n",
    "    1. Choose the unique name. \n",
    "    1. Add your app into Europe region.\n",
    "1. In your app detail, click on the \"Deploy\" tab.\n",
    "1. Choose \"GitHub\" deployment method.\n",
    "1. Connect Heroku to your GitHub account.\n",
    "1. Connect Heroku to your GitHub repository with the app.\n",
    "1. Manually deploy your `master` branch by clicking on \"Deploy\" button in according section."
   ]
  }
 ],
 "metadata": {
  "kernelspec": {
   "display_name": "Python 3 (ipykernel)",
   "language": "python",
   "name": "python3"
  },
  "language_info": {
   "codemirror_mode": {
    "name": "ipython",
    "version": 3
   },
   "file_extension": ".py",
   "mimetype": "text/x-python",
   "name": "python",
   "nbconvert_exporter": "python",
   "pygments_lexer": "ipython3",
   "version": "3.8.9"
  }
 },
 "nbformat": 4,
 "nbformat_minor": 5
}
