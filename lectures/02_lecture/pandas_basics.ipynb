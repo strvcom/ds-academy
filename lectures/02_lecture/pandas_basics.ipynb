{
 "cells": [
  {
   "cell_type": "markdown",
   "metadata": {
    "pycharm": {
     "name": "#%% md\n"
    }
   },
   "source": [
    "# Introduction to Pandas\n",
    "\n",
    "Pandas is the most popular Python library for tabular data structures. You can think of Pandas as a compelling version of Excel.\n",
    "\n",
    "Pandas allows us to work with the less structured data available in many forms. Pandas introduces more flexibility (e.g., attaching labels to data, working with missing data, etc.) and brings additional operations that do not map well to element-wise broadcasting (e.g., groupings, pivots, etc.)\n",
    "\n",
    "Pandas Series and DataFrame objects build on the NumPy array structure and provide efficient access to these sorts of \"data munging\" tasks that occupy much of a data scientist's time.\n",
    "\n",
    "> ✏️ The example is inspired by {cite}`tomasbeuzen` and {cite}`vanderplas_2017`.\n",
    "\n",
    "Let's import pandas with the alias pd:"
   ]
  },
  {
   "cell_type": "code",
   "execution_count": 1,
   "metadata": {
    "pycharm": {
     "name": "#%%\n"
    }
   },
   "outputs": [
    {
     "data": {
      "text/plain": [
       "'1.5.0'"
      ]
     },
     "execution_count": 1,
     "metadata": {},
     "output_type": "execute_result"
    }
   ],
   "source": [
    "import numpy as np\n",
    "import pandas as pd\n",
    "\n",
    "pd.__version__"
   ]
  },
  {
   "cell_type": "markdown",
   "metadata": {
    "pycharm": {
     "name": "#%% md\n"
    }
   },
   "source": [
    "## Pandas Series\n",
    "\n",
    "A Series is like a NumPy array but with labels. They are strictly 1-dimensional and can contain any data type (integers, strings, floats, objects, etc.), including a mix of them.\n",
    "\n",
    "### Creating Series\n",
    "\n",
    "By default, Series are labeled with indices starting from 0. For example:"
   ]
  },
  {
   "cell_type": "code",
   "execution_count": 2,
   "metadata": {
    "pycharm": {
     "name": "#%%\n"
    }
   },
   "outputs": [
    {
     "data": {
      "text/plain": [
       "0    -5.0\n",
       "1     1.3\n",
       "2    21.0\n",
       "3     6.0\n",
       "4     3.0\n",
       "dtype: float64"
      ]
     },
     "execution_count": 2,
     "metadata": {},
     "output_type": "execute_result"
    }
   ],
   "source": [
    "pd.Series(data=[-5, 1.3, 21, 6, 3])"
   ]
  },
  {
   "cell_type": "markdown",
   "metadata": {
    "pycharm": {
     "name": "#%% md\n"
    }
   },
   "source": [
    "However, you can add a custom index:"
   ]
  },
  {
   "cell_type": "code",
   "execution_count": 3,
   "metadata": {
    "pycharm": {
     "name": "#%%\n"
    }
   },
   "outputs": [
    {
     "data": {
      "text/plain": [
       "a    -5.0\n",
       "b     1.3\n",
       "c    21.0\n",
       "d     6.0\n",
       "e     3.0\n",
       "dtype: float64"
      ]
     },
     "execution_count": 3,
     "metadata": {},
     "output_type": "execute_result"
    }
   ],
   "source": [
    "pd.Series(data=[-5, 1.3, 21, 6, 3], index=['a', 'b', 'c', 'd', 'e'])"
   ]
  },
  {
   "cell_type": "markdown",
   "metadata": {
    "pycharm": {
     "name": "#%% md\n"
    }
   },
   "source": [
    "You can create a Series from a dictionary:"
   ]
  },
  {
   "cell_type": "code",
   "execution_count": 4,
   "metadata": {
    "pycharm": {
     "name": "#%%\n"
    }
   },
   "outputs": [
    {
     "data": {
      "text/plain": [
       "a    10\n",
       "b    20\n",
       "c    30\n",
       "dtype: int64"
      ]
     },
     "execution_count": 4,
     "metadata": {},
     "output_type": "execute_result"
    }
   ],
   "source": [
    "pd.Series(data={'a': 10, 'b': 20, 'c': 30})"
   ]
  },
  {
   "cell_type": "markdown",
   "metadata": {
    "pycharm": {
     "name": "#%% md\n"
    }
   },
   "source": [
    "Or from an ndarray:"
   ]
  },
  {
   "cell_type": "code",
   "execution_count": 5,
   "metadata": {
    "pycharm": {
     "name": "#%%\n"
    }
   },
   "outputs": [
    {
     "data": {
      "text/plain": [
       "0   -0.155503\n",
       "1    0.369496\n",
       "2   -1.036791\n",
       "dtype: float64"
      ]
     },
     "execution_count": 5,
     "metadata": {},
     "output_type": "execute_result"
    }
   ],
   "source": [
    "pd.Series(data=np.random.randn(3))"
   ]
  },
  {
   "cell_type": "markdown",
   "metadata": {
    "pycharm": {
     "name": "#%% md\n"
    }
   },
   "source": [
    "### Series Characteristics\n",
    "\n",
    "You can access the index labels of your Series using the _.index_ attribute:"
   ]
  },
  {
   "cell_type": "code",
   "execution_count": 6,
   "metadata": {
    "pycharm": {
     "name": "#%%\n"
    }
   },
   "outputs": [
    {
     "data": {
      "text/plain": [
       "RangeIndex(start=0, stop=3, step=1)"
      ]
     },
     "execution_count": 6,
     "metadata": {},
     "output_type": "execute_result"
    }
   ],
   "source": [
    "s = pd.Series(data=np.random.randn(3))\n",
    "s.index"
   ]
  },
  {
   "cell_type": "markdown",
   "metadata": {
    "pycharm": {
     "name": "#%% md\n"
    }
   },
   "source": [
    "You can access the underlying data array using .to_numpy():"
   ]
  },
  {
   "cell_type": "code",
   "execution_count": 7,
   "metadata": {
    "pycharm": {
     "name": "#%%\n"
    }
   },
   "outputs": [
    {
     "data": {
      "text/plain": [
       "array([-0.12172377, -0.25244984,  0.17396431])"
      ]
     },
     "execution_count": 7,
     "metadata": {},
     "output_type": "execute_result"
    }
   ],
   "source": [
    "s.to_numpy()"
   ]
  },
  {
   "cell_type": "markdown",
   "metadata": {
    "pycharm": {
     "name": "#%% md\n"
    }
   },
   "source": [
    "### Indexing and Slicing Series\n",
    "\n",
    "Series are very much like ndarrays in this regard (in fact, Series can be passed to most NumPy functions):"
   ]
  },
  {
   "cell_type": "code",
   "execution_count": 8,
   "metadata": {
    "pycharm": {
     "name": "#%%\n"
    }
   },
   "outputs": [
    {
     "data": {
      "text/plain": [
       "A    0\n",
       "B    1\n",
       "C    2\n",
       "D    3\n",
       "A    4\n",
       "dtype: int64"
      ]
     },
     "execution_count": 8,
     "metadata": {},
     "output_type": "execute_result"
    }
   ],
   "source": [
    "s = pd.Series(data=range(5), index=['A', 'B', 'C', 'D', 'A'])\n",
    "s"
   ]
  },
  {
   "cell_type": "code",
   "execution_count": 9,
   "metadata": {
    "pycharm": {
     "name": "#%%\n"
    }
   },
   "outputs": [
    {
     "data": {
      "text/plain": [
       "0"
      ]
     },
     "execution_count": 9,
     "metadata": {},
     "output_type": "execute_result"
    }
   ],
   "source": [
    "s[0]"
   ]
  },
  {
   "cell_type": "code",
   "execution_count": 10,
   "metadata": {
    "pycharm": {
     "name": "#%%\n"
    }
   },
   "outputs": [
    {
     "data": {
      "text/plain": [
       "A    0\n",
       "B    1\n",
       "C    2\n",
       "dtype: int64"
      ]
     },
     "execution_count": 10,
     "metadata": {},
     "output_type": "execute_result"
    }
   ],
   "source": [
    "s[0:3]"
   ]
  },
  {
   "cell_type": "markdown",
   "metadata": {
    "pycharm": {
     "name": "#%% md\n"
    }
   },
   "source": [
    "Series are also like dictionaries in that we can access values using index labels:"
   ]
  },
  {
   "cell_type": "code",
   "execution_count": 11,
   "metadata": {
    "pycharm": {
     "name": "#%%\n"
    }
   },
   "outputs": [
    {
     "data": {
      "text/plain": [
       "B    1\n",
       "D    3\n",
       "C    2\n",
       "dtype: int64"
      ]
     },
     "execution_count": 11,
     "metadata": {},
     "output_type": "execute_result"
    }
   ],
   "source": [
    "s[[\"B\", \"D\", \"C\"]]"
   ]
  },
  {
   "cell_type": "code",
   "execution_count": 12,
   "metadata": {
    "pycharm": {
     "name": "#%%\n"
    }
   },
   "outputs": [
    {
     "data": {
      "text/plain": [
       "True"
      ]
     },
     "execution_count": 12,
     "metadata": {},
     "output_type": "execute_result"
    }
   ],
   "source": [
    "\"A\" in s"
   ]
  },
  {
   "cell_type": "markdown",
   "metadata": {
    "pycharm": {
     "name": "#%% md\n"
    }
   },
   "source": [
    "Series do allow for non-unique indexing, but be careful because indexing operations won't return unique values:"
   ]
  },
  {
   "cell_type": "code",
   "execution_count": 13,
   "metadata": {
    "pycharm": {
     "name": "#%%\n"
    }
   },
   "outputs": [
    {
     "data": {
      "text/plain": [
       "A    0\n",
       "A    4\n",
       "dtype: int64"
      ]
     },
     "execution_count": 13,
     "metadata": {},
     "output_type": "execute_result"
    }
   ],
   "source": [
    "s[\"A\"]"
   ]
  },
  {
   "cell_type": "markdown",
   "metadata": {
    "pycharm": {
     "name": "#%% md\n"
    }
   },
   "source": [
    "Finally, we can also do boolean indexing with Series:"
   ]
  },
  {
   "cell_type": "code",
   "execution_count": 14,
   "metadata": {
    "pycharm": {
     "name": "#%%\n"
    }
   },
   "outputs": [
    {
     "data": {
      "text/plain": [
       "B    1\n",
       "C    2\n",
       "D    3\n",
       "A    4\n",
       "dtype: int64"
      ]
     },
     "execution_count": 14,
     "metadata": {},
     "output_type": "execute_result"
    }
   ],
   "source": [
    "s[s >= 1]"
   ]
  },
  {
   "cell_type": "markdown",
   "metadata": {
    "pycharm": {
     "name": "#%% md\n"
    }
   },
   "source": [
    "### Series Operations\n",
    "\n",
    "Unlike ndarrays, operations between Series (+, -, /, *) align values based on their **LABELS** (not their position in the structure). The resulting index will be the sorted union of the two indexes. This gives you the flexibility to run operations on Series regardless of their labels."
   ]
  },
  {
   "cell_type": "code",
   "execution_count": 15,
   "metadata": {
    "pycharm": {
     "name": "#%%\n"
    }
   },
   "outputs": [
    {
     "data": {
      "text/plain": [
       "A    0\n",
       "B    1\n",
       "C    2\n",
       "D    3\n",
       "dtype: int64"
      ]
     },
     "execution_count": 15,
     "metadata": {},
     "output_type": "execute_result"
    }
   ],
   "source": [
    "s1 = pd.Series(data=range(4), index=[\"A\", \"B\", \"C\", \"D\"])\n",
    "s1"
   ]
  },
  {
   "cell_type": "code",
   "execution_count": 16,
   "metadata": {
    "pycharm": {
     "name": "#%%\n"
    }
   },
   "outputs": [
    {
     "data": {
      "text/plain": [
       "B    10\n",
       "C    11\n",
       "D    12\n",
       "E    13\n",
       "dtype: int64"
      ]
     },
     "execution_count": 16,
     "metadata": {},
     "output_type": "execute_result"
    }
   ],
   "source": [
    "s2 = pd.Series(data=range(10, 14), index=[\"B\", \"C\", \"D\", \"E\"])\n",
    "s2"
   ]
  },
  {
   "cell_type": "code",
   "execution_count": 17,
   "metadata": {
    "pycharm": {
     "name": "#%%\n"
    }
   },
   "outputs": [
    {
     "data": {
      "text/plain": [
       "A     NaN\n",
       "B    11.0\n",
       "C    13.0\n",
       "D    15.0\n",
       "E     NaN\n",
       "dtype: float64"
      ]
     },
     "execution_count": 17,
     "metadata": {},
     "output_type": "execute_result"
    }
   ],
   "source": [
    "s1 + s2"
   ]
  },
  {
   "cell_type": "markdown",
   "metadata": {
    "pycharm": {
     "name": "#%% md\n"
    }
   },
   "source": [
    "We can also perform standard operations on a series, like multiplying or squaring. NumPy also accepts Series as an argument to most functions because series are built off numpy arrays:"
   ]
  },
  {
   "cell_type": "code",
   "execution_count": 18,
   "metadata": {
    "pycharm": {
     "name": "#%%\n"
    }
   },
   "outputs": [
    {
     "data": {
      "text/plain": [
       "A    0\n",
       "B    1\n",
       "C    4\n",
       "D    9\n",
       "dtype: int64"
      ]
     },
     "execution_count": 18,
     "metadata": {},
     "output_type": "execute_result"
    }
   ],
   "source": [
    "s1 ** 2"
   ]
  },
  {
   "cell_type": "code",
   "execution_count": 19,
   "metadata": {
    "pycharm": {
     "name": "#%%\n"
    }
   },
   "outputs": [
    {
     "data": {
      "text/plain": [
       "A     1.000000\n",
       "B     2.718282\n",
       "C     7.389056\n",
       "D    20.085537\n",
       "dtype: float64"
      ]
     },
     "execution_count": 19,
     "metadata": {},
     "output_type": "execute_result"
    }
   ],
   "source": [
    "np.exp(s1)"
   ]
  },
  {
   "cell_type": "markdown",
   "metadata": {
    "pycharm": {
     "name": "#%% md\n"
    }
   },
   "source": [
    "Finally, like arrays, Series have many built-in methods for various operations:"
   ]
  },
  {
   "cell_type": "code",
   "execution_count": 20,
   "metadata": {
    "pycharm": {
     "name": "#%%\n"
    }
   },
   "outputs": [
    {
     "data": {
      "text/plain": [
       "1.5"
      ]
     },
     "execution_count": 20,
     "metadata": {},
     "output_type": "execute_result"
    }
   ],
   "source": [
    "s1.mean()"
   ]
  },
  {
   "cell_type": "markdown",
   "metadata": {
    "pycharm": {
     "name": "#%% md\n"
    }
   },
   "source": [
    "## Pandas DataFrames\n",
    "\n",
    "DataFrames are just Series stuck together. Think of a DataFrame as a dictionary of series, with the \"keys\" being the column labels and the \"values\" being the series data:\n",
    "\n",
    "### Creating DataFrames\n",
    "\n",
    "Dataframes can be created using _pd.DataFrame()_. Like series, index and column labels of dataframes are labeled starting from 0 by default:"
   ]
  },
  {
   "cell_type": "code",
   "execution_count": 21,
   "metadata": {
    "pycharm": {
     "name": "#%%\n"
    }
   },
   "outputs": [
    {
     "data": {
      "text/html": [
       "<div>\n",
       "<style scoped>\n",
       "    .dataframe tbody tr th:only-of-type {\n",
       "        vertical-align: middle;\n",
       "    }\n",
       "\n",
       "    .dataframe tbody tr th {\n",
       "        vertical-align: top;\n",
       "    }\n",
       "\n",
       "    .dataframe thead th {\n",
       "        text-align: right;\n",
       "    }\n",
       "</style>\n",
       "<table border=\"1\" class=\"dataframe\">\n",
       "  <thead>\n",
       "    <tr style=\"text-align: right;\">\n",
       "      <th></th>\n",
       "      <th>0</th>\n",
       "      <th>1</th>\n",
       "      <th>2</th>\n",
       "    </tr>\n",
       "  </thead>\n",
       "  <tbody>\n",
       "    <tr>\n",
       "      <th>0</th>\n",
       "      <td>1</td>\n",
       "      <td>2</td>\n",
       "      <td>3</td>\n",
       "    </tr>\n",
       "    <tr>\n",
       "      <th>1</th>\n",
       "      <td>4</td>\n",
       "      <td>5</td>\n",
       "      <td>6</td>\n",
       "    </tr>\n",
       "    <tr>\n",
       "      <th>2</th>\n",
       "      <td>7</td>\n",
       "      <td>8</td>\n",
       "      <td>9</td>\n",
       "    </tr>\n",
       "  </tbody>\n",
       "</table>\n",
       "</div>"
      ],
      "text/plain": [
       "   0  1  2\n",
       "0  1  2  3\n",
       "1  4  5  6\n",
       "2  7  8  9"
      ]
     },
     "execution_count": 21,
     "metadata": {},
     "output_type": "execute_result"
    }
   ],
   "source": [
    "pd.DataFrame([[1, 2, 3], [4, 5, 6], [7, 8, 9]])"
   ]
  },
  {
   "cell_type": "markdown",
   "metadata": {
    "pycharm": {
     "name": "#%% md\n"
    }
   },
   "source": [
    "We can use the index and columns arguments to give them labels:"
   ]
  },
  {
   "cell_type": "code",
   "execution_count": 22,
   "metadata": {
    "pycharm": {
     "name": "#%%\n"
    }
   },
   "outputs": [
    {
     "data": {
      "text/html": [
       "<div>\n",
       "<style scoped>\n",
       "    .dataframe tbody tr th:only-of-type {\n",
       "        vertical-align: middle;\n",
       "    }\n",
       "\n",
       "    .dataframe tbody tr th {\n",
       "        vertical-align: top;\n",
       "    }\n",
       "\n",
       "    .dataframe thead th {\n",
       "        text-align: right;\n",
       "    }\n",
       "</style>\n",
       "<table border=\"1\" class=\"dataframe\">\n",
       "  <thead>\n",
       "    <tr style=\"text-align: right;\">\n",
       "      <th></th>\n",
       "      <th>C1</th>\n",
       "      <th>C2</th>\n",
       "      <th>C3</th>\n",
       "    </tr>\n",
       "  </thead>\n",
       "  <tbody>\n",
       "    <tr>\n",
       "      <th>R1</th>\n",
       "      <td>1</td>\n",
       "      <td>2</td>\n",
       "      <td>3</td>\n",
       "    </tr>\n",
       "    <tr>\n",
       "      <th>R2</th>\n",
       "      <td>4</td>\n",
       "      <td>5</td>\n",
       "      <td>6</td>\n",
       "    </tr>\n",
       "    <tr>\n",
       "      <th>R3</th>\n",
       "      <td>7</td>\n",
       "      <td>8</td>\n",
       "      <td>9</td>\n",
       "    </tr>\n",
       "  </tbody>\n",
       "</table>\n",
       "</div>"
      ],
      "text/plain": [
       "    C1  C2  C3\n",
       "R1   1   2   3\n",
       "R2   4   5   6\n",
       "R3   7   8   9"
      ]
     },
     "execution_count": 22,
     "metadata": {},
     "output_type": "execute_result"
    }
   ],
   "source": [
    "pd.DataFrame([[1, 2, 3], [4, 5, 6], [7, 8, 9]], index=[\"R1\", \"R2\", \"R3\"], columns=[\"C1\", \"C2\", \"C3\"])"
   ]
  },
  {
   "cell_type": "markdown",
   "metadata": {
    "pycharm": {
     "name": "#%% md\n"
    }
   },
   "source": [
    "There are so many ways to create dataframes. For example, you can use dictionary:"
   ]
  },
  {
   "cell_type": "code",
   "execution_count": 23,
   "metadata": {
    "pycharm": {
     "name": "#%%\n"
    }
   },
   "outputs": [
    {
     "data": {
      "text/html": [
       "<div>\n",
       "<style scoped>\n",
       "    .dataframe tbody tr th:only-of-type {\n",
       "        vertical-align: middle;\n",
       "    }\n",
       "\n",
       "    .dataframe tbody tr th {\n",
       "        vertical-align: top;\n",
       "    }\n",
       "\n",
       "    .dataframe thead th {\n",
       "        text-align: right;\n",
       "    }\n",
       "</style>\n",
       "<table border=\"1\" class=\"dataframe\">\n",
       "  <thead>\n",
       "    <tr style=\"text-align: right;\">\n",
       "      <th></th>\n",
       "      <th>C1</th>\n",
       "      <th>C2</th>\n",
       "    </tr>\n",
       "  </thead>\n",
       "  <tbody>\n",
       "    <tr>\n",
       "      <th>R1</th>\n",
       "      <td>1</td>\n",
       "      <td>A</td>\n",
       "    </tr>\n",
       "    <tr>\n",
       "      <th>R2</th>\n",
       "      <td>2</td>\n",
       "      <td>B</td>\n",
       "    </tr>\n",
       "    <tr>\n",
       "      <th>R3</th>\n",
       "      <td>3</td>\n",
       "      <td>C</td>\n",
       "    </tr>\n",
       "  </tbody>\n",
       "</table>\n",
       "</div>"
      ],
      "text/plain": [
       "    C1 C2\n",
       "R1   1  A\n",
       "R2   2  B\n",
       "R3   3  C"
      ]
     },
     "execution_count": 23,
     "metadata": {},
     "output_type": "execute_result"
    }
   ],
   "source": [
    "pd.DataFrame({\"C1\": [1, 2, 3], \"C2\": ['A', 'B', 'C']}, index=[\"R1\", \"R2\", \"R3\"])"
   ]
  },
  {
   "cell_type": "markdown",
   "metadata": {
    "pycharm": {
     "name": "#%% md\n"
    }
   },
   "source": [
    "### Indexing and Slicing\n",
    "\n",
    "There are several main ways to select data from a DataFrame:\n",
    "\n",
    "| Method                               | Syntax                                   | Output                                                                      |\n",
    "|:-------------------------------------|:-----------------------------------------|:----------------------------------------------------------------------------|\n",
    "| Select column                        | `df[col_label]`                          | Series                                                                      |\n",
    "| Select row slice                     | `df[row_1_int:row_2_int]`                | DataFrame                                                                   |\n",
    "| Select row/column by label           | `df.loc[row_label(s), col_label(s)]`     | Object for single selection, Series for one row/column, otherwise DataFrame |\n",
    "| Select row/column by integer         | `df.iloc[row_int(s), col_int(s)]`        | Object for single selection, Series for one row/column, otherwise DataFrame |\n",
    "| Select by row integer & column label | `df.loc[df.index[row_int], col_label]`   | Object for single selection, Series for one row/column, otherwise DataFrame |\n",
    "| Select by row label & column integer | `df.loc[row_label, df.columns[col_int]]` | Object for single selection, Series for one row/column, otherwise DataFrame |\n",
    "| Select by boolean                    | `df[bool_vec]`                           | Object for single selection, Series for one row/column, otherwise DataFrame |\n",
    "\n",
    "### Indexing with []"
   ]
  },
  {
   "cell_type": "code",
   "execution_count": 24,
   "metadata": {
    "pycharm": {
     "name": "#%%\n"
    }
   },
   "outputs": [
    {
     "data": {
      "text/html": [
       "<div>\n",
       "<style scoped>\n",
       "    .dataframe tbody tr th:only-of-type {\n",
       "        vertical-align: middle;\n",
       "    }\n",
       "\n",
       "    .dataframe tbody tr th {\n",
       "        vertical-align: top;\n",
       "    }\n",
       "\n",
       "    .dataframe thead th {\n",
       "        text-align: right;\n",
       "    }\n",
       "</style>\n",
       "<table border=\"1\" class=\"dataframe\">\n",
       "  <thead>\n",
       "    <tr style=\"text-align: right;\">\n",
       "      <th></th>\n",
       "      <th>Name</th>\n",
       "      <th>Language</th>\n",
       "      <th>Courses</th>\n",
       "    </tr>\n",
       "  </thead>\n",
       "  <tbody>\n",
       "    <tr>\n",
       "      <th>0</th>\n",
       "      <td>Tom</td>\n",
       "      <td>Python</td>\n",
       "      <td>5</td>\n",
       "    </tr>\n",
       "    <tr>\n",
       "      <th>1</th>\n",
       "      <td>Mike</td>\n",
       "      <td>Python</td>\n",
       "      <td>4</td>\n",
       "    </tr>\n",
       "    <tr>\n",
       "      <th>2</th>\n",
       "      <td>Tiffany</td>\n",
       "      <td>R</td>\n",
       "      <td>7</td>\n",
       "    </tr>\n",
       "  </tbody>\n",
       "</table>\n",
       "</div>"
      ],
      "text/plain": [
       "      Name Language  Courses\n",
       "0      Tom   Python        5\n",
       "1     Mike   Python        4\n",
       "2  Tiffany        R        7"
      ]
     },
     "execution_count": 24,
     "metadata": {},
     "output_type": "execute_result"
    }
   ],
   "source": [
    "df = pd.DataFrame(\n",
    "    {\n",
    "        \"Name\": [\"Tom\", \"Mike\", \"Tiffany\"],\n",
    "        \"Language\": [\"Python\", \"Python\", \"R\"],\n",
    "        \"Courses\": [5, 4, 7]\n",
    "    }\n",
    ")\n",
    "df"
   ]
  },
  {
   "cell_type": "markdown",
   "metadata": {
    "pycharm": {
     "name": "#%% md\n"
    }
   },
   "source": [
    "Select columns by single labels, lists of labels, or slices:"
   ]
  },
  {
   "cell_type": "code",
   "execution_count": 25,
   "metadata": {
    "pycharm": {
     "name": "#%%\n"
    }
   },
   "outputs": [
    {
     "data": {
      "text/plain": [
       "0        Tom\n",
       "1       Mike\n",
       "2    Tiffany\n",
       "Name: Name, dtype: object"
      ]
     },
     "execution_count": 25,
     "metadata": {},
     "output_type": "execute_result"
    }
   ],
   "source": [
    "df['Name']"
   ]
  },
  {
   "cell_type": "code",
   "execution_count": 26,
   "metadata": {
    "pycharm": {
     "name": "#%%\n"
    }
   },
   "outputs": [
    {
     "data": {
      "text/html": [
       "<div>\n",
       "<style scoped>\n",
       "    .dataframe tbody tr th:only-of-type {\n",
       "        vertical-align: middle;\n",
       "    }\n",
       "\n",
       "    .dataframe tbody tr th {\n",
       "        vertical-align: top;\n",
       "    }\n",
       "\n",
       "    .dataframe thead th {\n",
       "        text-align: right;\n",
       "    }\n",
       "</style>\n",
       "<table border=\"1\" class=\"dataframe\">\n",
       "  <thead>\n",
       "    <tr style=\"text-align: right;\">\n",
       "      <th></th>\n",
       "      <th>Name</th>\n",
       "      <th>Language</th>\n",
       "    </tr>\n",
       "  </thead>\n",
       "  <tbody>\n",
       "    <tr>\n",
       "      <th>0</th>\n",
       "      <td>Tom</td>\n",
       "      <td>Python</td>\n",
       "    </tr>\n",
       "    <tr>\n",
       "      <th>1</th>\n",
       "      <td>Mike</td>\n",
       "      <td>Python</td>\n",
       "    </tr>\n",
       "    <tr>\n",
       "      <th>2</th>\n",
       "      <td>Tiffany</td>\n",
       "      <td>R</td>\n",
       "    </tr>\n",
       "  </tbody>\n",
       "</table>\n",
       "</div>"
      ],
      "text/plain": [
       "      Name Language\n",
       "0      Tom   Python\n",
       "1     Mike   Python\n",
       "2  Tiffany        R"
      ]
     },
     "execution_count": 26,
     "metadata": {},
     "output_type": "execute_result"
    }
   ],
   "source": [
    "df[['Name', 'Language']]"
   ]
  },
  {
   "cell_type": "code",
   "execution_count": 27,
   "metadata": {
    "pycharm": {
     "name": "#%%\n"
    }
   },
   "outputs": [
    {
     "data": {
      "text/html": [
       "<div>\n",
       "<style scoped>\n",
       "    .dataframe tbody tr th:only-of-type {\n",
       "        vertical-align: middle;\n",
       "    }\n",
       "\n",
       "    .dataframe tbody tr th {\n",
       "        vertical-align: top;\n",
       "    }\n",
       "\n",
       "    .dataframe thead th {\n",
       "        text-align: right;\n",
       "    }\n",
       "</style>\n",
       "<table border=\"1\" class=\"dataframe\">\n",
       "  <thead>\n",
       "    <tr style=\"text-align: right;\">\n",
       "      <th></th>\n",
       "      <th>Name</th>\n",
       "      <th>Language</th>\n",
       "      <th>Courses</th>\n",
       "    </tr>\n",
       "  </thead>\n",
       "  <tbody>\n",
       "    <tr>\n",
       "      <th>2</th>\n",
       "      <td>Tiffany</td>\n",
       "      <td>R</td>\n",
       "      <td>7</td>\n",
       "    </tr>\n",
       "  </tbody>\n",
       "</table>\n",
       "</div>"
      ],
      "text/plain": [
       "      Name Language  Courses\n",
       "2  Tiffany        R        7"
      ]
     },
     "execution_count": 27,
     "metadata": {},
     "output_type": "execute_result"
    }
   ],
   "source": [
    "df[df['Courses'] > 5]"
   ]
  },
  {
   "cell_type": "code",
   "execution_count": 28,
   "metadata": {
    "pycharm": {
     "name": "#%%\n"
    }
   },
   "outputs": [
    {
     "data": {
      "text/html": [
       "<div>\n",
       "<style scoped>\n",
       "    .dataframe tbody tr th:only-of-type {\n",
       "        vertical-align: middle;\n",
       "    }\n",
       "\n",
       "    .dataframe tbody tr th {\n",
       "        vertical-align: top;\n",
       "    }\n",
       "\n",
       "    .dataframe thead th {\n",
       "        text-align: right;\n",
       "    }\n",
       "</style>\n",
       "<table border=\"1\" class=\"dataframe\">\n",
       "  <thead>\n",
       "    <tr style=\"text-align: right;\">\n",
       "      <th></th>\n",
       "      <th>Name</th>\n",
       "      <th>Language</th>\n",
       "      <th>Courses</th>\n",
       "    </tr>\n",
       "  </thead>\n",
       "  <tbody>\n",
       "    <tr>\n",
       "      <th>0</th>\n",
       "      <td>Tom</td>\n",
       "      <td>Python</td>\n",
       "      <td>5</td>\n",
       "    </tr>\n",
       "  </tbody>\n",
       "</table>\n",
       "</div>"
      ],
      "text/plain": [
       "  Name Language  Courses\n",
       "0  Tom   Python        5"
      ]
     },
     "execution_count": 28,
     "metadata": {},
     "output_type": "execute_result"
    }
   ],
   "source": [
    "df[df['Name'] == \"Tom\"]"
   ]
  },
  {
   "cell_type": "code",
   "execution_count": 29,
   "metadata": {
    "pycharm": {
     "name": "#%%\n"
    }
   },
   "outputs": [
    {
     "data": {
      "text/html": [
       "<div>\n",
       "<style scoped>\n",
       "    .dataframe tbody tr th:only-of-type {\n",
       "        vertical-align: middle;\n",
       "    }\n",
       "\n",
       "    .dataframe tbody tr th {\n",
       "        vertical-align: top;\n",
       "    }\n",
       "\n",
       "    .dataframe thead th {\n",
       "        text-align: right;\n",
       "    }\n",
       "</style>\n",
       "<table border=\"1\" class=\"dataframe\">\n",
       "  <thead>\n",
       "    <tr style=\"text-align: right;\">\n",
       "      <th></th>\n",
       "      <th>Name</th>\n",
       "      <th>Language</th>\n",
       "      <th>Courses</th>\n",
       "    </tr>\n",
       "  </thead>\n",
       "  <tbody>\n",
       "    <tr>\n",
       "      <th>0</th>\n",
       "      <td>Tom</td>\n",
       "      <td>Python</td>\n",
       "      <td>5</td>\n",
       "    </tr>\n",
       "  </tbody>\n",
       "</table>\n",
       "</div>"
      ],
      "text/plain": [
       "  Name Language  Courses\n",
       "0  Tom   Python        5"
      ]
     },
     "execution_count": 29,
     "metadata": {},
     "output_type": "execute_result"
    }
   ],
   "source": [
    "df[(df['Courses'] > 4) & (df['Language'] == 'Python')]"
   ]
  },
  {
   "cell_type": "markdown",
   "metadata": {
    "pycharm": {
     "name": "#%% md\n"
    }
   },
   "source": [
    "### Indexing with .loc and .iloc\n",
    "\n",
    "Pandas created the methods _.loc[]_ and _.iloc[]_ as more flexible alternatives for accessing data from a dataframe. Use _df.iloc[]_ for indexing with integers and _df.loc[]_ for indexing with labels."
   ]
  },
  {
   "cell_type": "code",
   "execution_count": 30,
   "metadata": {
    "pycharm": {
     "name": "#%%\n"
    }
   },
   "outputs": [
    {
     "data": {
      "text/plain": [
       "Name           Tom\n",
       "Language    Python\n",
       "Courses          5\n",
       "Name: 0, dtype: object"
      ]
     },
     "execution_count": 30,
     "metadata": {},
     "output_type": "execute_result"
    }
   ],
   "source": [
    "# returns a series\n",
    "df.iloc[0]"
   ]
  },
  {
   "cell_type": "code",
   "execution_count": 31,
   "metadata": {
    "pycharm": {
     "name": "#%%\n"
    }
   },
   "outputs": [
    {
     "data": {
      "text/html": [
       "<div>\n",
       "<style scoped>\n",
       "    .dataframe tbody tr th:only-of-type {\n",
       "        vertical-align: middle;\n",
       "    }\n",
       "\n",
       "    .dataframe tbody tr th {\n",
       "        vertical-align: top;\n",
       "    }\n",
       "\n",
       "    .dataframe thead th {\n",
       "        text-align: right;\n",
       "    }\n",
       "</style>\n",
       "<table border=\"1\" class=\"dataframe\">\n",
       "  <thead>\n",
       "    <tr style=\"text-align: right;\">\n",
       "      <th></th>\n",
       "      <th>Name</th>\n",
       "      <th>Language</th>\n",
       "      <th>Courses</th>\n",
       "    </tr>\n",
       "  </thead>\n",
       "  <tbody>\n",
       "    <tr>\n",
       "      <th>0</th>\n",
       "      <td>Tom</td>\n",
       "      <td>Python</td>\n",
       "      <td>5</td>\n",
       "    </tr>\n",
       "    <tr>\n",
       "      <th>1</th>\n",
       "      <td>Mike</td>\n",
       "      <td>Python</td>\n",
       "      <td>4</td>\n",
       "    </tr>\n",
       "  </tbody>\n",
       "</table>\n",
       "</div>"
      ],
      "text/plain": [
       "   Name Language  Courses\n",
       "0   Tom   Python        5\n",
       "1  Mike   Python        4"
      ]
     },
     "execution_count": 31,
     "metadata": {},
     "output_type": "execute_result"
    }
   ],
   "source": [
    "# slicing returns a dataframe\n",
    "df.iloc[0:2]"
   ]
  },
  {
   "cell_type": "code",
   "execution_count": 32,
   "metadata": {
    "pycharm": {
     "name": "#%%\n"
    }
   },
   "outputs": [
    {
     "data": {
      "text/plain": [
       "'R'"
      ]
     },
     "execution_count": 32,
     "metadata": {},
     "output_type": "execute_result"
    }
   ],
   "source": [
    "# returns the indexed object\n",
    "df.iloc[2, 1]"
   ]
  },
  {
   "cell_type": "markdown",
   "metadata": {
    "pycharm": {
     "name": "#%% md\n"
    }
   },
   "source": [
    "Now let's look at .loc which accepts labels as references to rows/columns:"
   ]
  },
  {
   "cell_type": "code",
   "execution_count": 33,
   "metadata": {
    "pycharm": {
     "name": "#%%\n"
    }
   },
   "outputs": [
    {
     "data": {
      "text/plain": [
       "0        Tom\n",
       "1       Mike\n",
       "2    Tiffany\n",
       "Name: Name, dtype: object"
      ]
     },
     "execution_count": 33,
     "metadata": {},
     "output_type": "execute_result"
    }
   ],
   "source": [
    "df.loc[:, 'Name']"
   ]
  },
  {
   "cell_type": "markdown",
   "metadata": {
    "pycharm": {
     "name": "#%% md\n"
    }
   },
   "source": [
    "## Reading/Writing Data From External Sources\n",
    "\n",
    "Pandas facilitates reading directly from a url - `pd.read_csv()` accepts urls as input:"
   ]
  },
  {
   "cell_type": "code",
   "execution_count": 34,
   "metadata": {
    "pycharm": {
     "name": "#%%\n"
    }
   },
   "outputs": [
    {
     "data": {
      "text/html": [
       "<div>\n",
       "<style scoped>\n",
       "    .dataframe tbody tr th:only-of-type {\n",
       "        vertical-align: middle;\n",
       "    }\n",
       "\n",
       "    .dataframe tbody tr th {\n",
       "        vertical-align: top;\n",
       "    }\n",
       "\n",
       "    .dataframe thead th {\n",
       "        text-align: right;\n",
       "    }\n",
       "</style>\n",
       "<table border=\"1\" class=\"dataframe\">\n",
       "  <thead>\n",
       "    <tr style=\"text-align: right;\">\n",
       "      <th></th>\n",
       "      <th>country</th>\n",
       "      <th>food_category</th>\n",
       "      <th>consumption</th>\n",
       "      <th>co2_emmission</th>\n",
       "    </tr>\n",
       "  </thead>\n",
       "  <tbody>\n",
       "    <tr>\n",
       "      <th>0</th>\n",
       "      <td>Argentina</td>\n",
       "      <td>Pork</td>\n",
       "      <td>10.51</td>\n",
       "      <td>37.20</td>\n",
       "    </tr>\n",
       "    <tr>\n",
       "      <th>1</th>\n",
       "      <td>Argentina</td>\n",
       "      <td>Poultry</td>\n",
       "      <td>38.66</td>\n",
       "      <td>41.53</td>\n",
       "    </tr>\n",
       "    <tr>\n",
       "      <th>2</th>\n",
       "      <td>Argentina</td>\n",
       "      <td>Beef</td>\n",
       "      <td>55.48</td>\n",
       "      <td>1712.00</td>\n",
       "    </tr>\n",
       "    <tr>\n",
       "      <th>3</th>\n",
       "      <td>Argentina</td>\n",
       "      <td>Lamb &amp; Goat</td>\n",
       "      <td>1.56</td>\n",
       "      <td>54.63</td>\n",
       "    </tr>\n",
       "    <tr>\n",
       "      <th>4</th>\n",
       "      <td>Argentina</td>\n",
       "      <td>Fish</td>\n",
       "      <td>4.36</td>\n",
       "      <td>6.96</td>\n",
       "    </tr>\n",
       "  </tbody>\n",
       "</table>\n",
       "</div>"
      ],
      "text/plain": [
       "     country food_category  consumption  co2_emmission\n",
       "0  Argentina          Pork        10.51          37.20\n",
       "1  Argentina       Poultry        38.66          41.53\n",
       "2  Argentina          Beef        55.48        1712.00\n",
       "3  Argentina   Lamb & Goat         1.56          54.63\n",
       "4  Argentina          Fish         4.36           6.96"
      ]
     },
     "execution_count": 34,
     "metadata": {},
     "output_type": "execute_result"
    }
   ],
   "source": [
    "url = \"https://raw.githubusercontent.com/rfordatascience/tidytuesday/master/data/2020/2020-02-18/food_consumption.csv\"\n",
    "df = pd.read_csv(url)\n",
    "df.head()"
   ]
  },
  {
   "cell_type": "markdown",
   "metadata": {
    "pycharm": {
     "name": "#%% md\n"
    }
   },
   "source": [
    "Notice that we are using function _.head()_ to visualize just a fraction of rows taken from the top.\n",
    "\n",
    "Let's save data to a .csv file. You will likely be loading local .csv files more often."
   ]
  },
  {
   "cell_type": "code",
   "execution_count": 35,
   "metadata": {
    "pycharm": {
     "name": "#%%\n"
    }
   },
   "outputs": [],
   "source": [
    "out_path = '../../data/food_consumption.csv'\n",
    "df.to_csv(out_path, sep='\\t', encoding='utf-8', index=False)"
   ]
  },
  {
   "cell_type": "markdown",
   "metadata": {
    "pycharm": {
     "name": "#%% md\n"
    }
   },
   "source": [
    "Let's read it back:"
   ]
  },
  {
   "cell_type": "code",
   "execution_count": 36,
   "metadata": {
    "pycharm": {
     "name": "#%%\n"
    }
   },
   "outputs": [
    {
     "data": {
      "text/html": [
       "<div>\n",
       "<style scoped>\n",
       "    .dataframe tbody tr th:only-of-type {\n",
       "        vertical-align: middle;\n",
       "    }\n",
       "\n",
       "    .dataframe tbody tr th {\n",
       "        vertical-align: top;\n",
       "    }\n",
       "\n",
       "    .dataframe thead th {\n",
       "        text-align: right;\n",
       "    }\n",
       "</style>\n",
       "<table border=\"1\" class=\"dataframe\">\n",
       "  <thead>\n",
       "    <tr style=\"text-align: right;\">\n",
       "      <th></th>\n",
       "      <th>food_category</th>\n",
       "      <th>consumption</th>\n",
       "      <th>co2_emmission</th>\n",
       "    </tr>\n",
       "    <tr>\n",
       "      <th>country</th>\n",
       "      <th></th>\n",
       "      <th></th>\n",
       "      <th></th>\n",
       "    </tr>\n",
       "  </thead>\n",
       "  <tbody>\n",
       "    <tr>\n",
       "      <th>Argentina</th>\n",
       "      <td>Pork</td>\n",
       "      <td>10.51</td>\n",
       "      <td>37.20</td>\n",
       "    </tr>\n",
       "    <tr>\n",
       "      <th>Argentina</th>\n",
       "      <td>Poultry</td>\n",
       "      <td>38.66</td>\n",
       "      <td>41.53</td>\n",
       "    </tr>\n",
       "    <tr>\n",
       "      <th>Argentina</th>\n",
       "      <td>Beef</td>\n",
       "      <td>55.48</td>\n",
       "      <td>1712.00</td>\n",
       "    </tr>\n",
       "    <tr>\n",
       "      <th>Argentina</th>\n",
       "      <td>Lamb &amp; Goat</td>\n",
       "      <td>1.56</td>\n",
       "      <td>54.63</td>\n",
       "    </tr>\n",
       "    <tr>\n",
       "      <th>Argentina</th>\n",
       "      <td>Fish</td>\n",
       "      <td>4.36</td>\n",
       "      <td>6.96</td>\n",
       "    </tr>\n",
       "  </tbody>\n",
       "</table>\n",
       "</div>"
      ],
      "text/plain": [
       "          food_category  consumption  co2_emmission\n",
       "country                                            \n",
       "Argentina          Pork        10.51          37.20\n",
       "Argentina       Poultry        38.66          41.53\n",
       "Argentina          Beef        55.48        1712.00\n",
       "Argentina   Lamb & Goat         1.56          54.63\n",
       "Argentina          Fish         4.36           6.96"
      ]
     },
     "execution_count": 36,
     "metadata": {},
     "output_type": "execute_result"
    }
   ],
   "source": [
    "df = pd.read_csv(out_path, index_col=0, parse_dates=True, sep='\\t')\n",
    "df.head()"
   ]
  },
  {
   "cell_type": "markdown",
   "metadata": {
    "pycharm": {
     "name": "#%% md\n"
    }
   },
   "source": [
    "### DataFrames Operations\n",
    "\n",
    "Similar to Series, DataFrames have built-in functions for performing most common operations, e.g., _.max()_, _.idxmin()_, _.sort_values()_, _.value_counts()_, etc. They're all documented in the [Pandas documentation](https://pandas.pydata.org/pandas-docs/stable/reference/api/pandas.DataFrame.html).\n",
    "\n",
    "Let's try a few of them:"
   ]
  },
  {
   "cell_type": "code",
   "execution_count": 37,
   "metadata": {
    "pycharm": {
     "name": "#%%\n"
    }
   },
   "outputs": [
    {
     "data": {
      "text/plain": [
       "food_category    Wheat and Wheat Products\n",
       "consumption                        430.76\n",
       "co2_emmission                      1712.0\n",
       "dtype: object"
      ]
     },
     "execution_count": 37,
     "metadata": {},
     "output_type": "execute_result"
    }
   ],
   "source": [
    "df.max()"
   ]
  },
  {
   "cell_type": "code",
   "execution_count": 38,
   "metadata": {
    "pycharm": {
     "name": "#%%\n"
    }
   },
   "outputs": [
    {
     "data": {
      "text/plain": [
       "1712.0"
      ]
     },
     "execution_count": 38,
     "metadata": {},
     "output_type": "execute_result"
    }
   ],
   "source": [
    "df['co2_emmission'].max()"
   ]
  },
  {
   "cell_type": "code",
   "execution_count": 39,
   "metadata": {
    "pycharm": {
     "name": "#%%\n"
    }
   },
   "outputs": [
    {
     "data": {
      "text/plain": [
       "'Argentina'"
      ]
     },
     "execution_count": 39,
     "metadata": {},
     "output_type": "execute_result"
    }
   ],
   "source": [
    "df['co2_emmission'].idxmin()"
   ]
  },
  {
   "cell_type": "code",
   "execution_count": 40,
   "metadata": {
    "pycharm": {
     "name": "#%%\n"
    }
   },
   "outputs": [
    {
     "data": {
      "text/html": [
       "<div>\n",
       "<style scoped>\n",
       "    .dataframe tbody tr th:only-of-type {\n",
       "        vertical-align: middle;\n",
       "    }\n",
       "\n",
       "    .dataframe tbody tr th {\n",
       "        vertical-align: top;\n",
       "    }\n",
       "\n",
       "    .dataframe thead th {\n",
       "        text-align: right;\n",
       "    }\n",
       "</style>\n",
       "<table border=\"1\" class=\"dataframe\">\n",
       "  <thead>\n",
       "    <tr style=\"text-align: right;\">\n",
       "      <th></th>\n",
       "      <th>food_category</th>\n",
       "      <th>consumption</th>\n",
       "      <th>co2_emmission</th>\n",
       "    </tr>\n",
       "    <tr>\n",
       "      <th>country</th>\n",
       "      <th></th>\n",
       "      <th></th>\n",
       "      <th></th>\n",
       "    </tr>\n",
       "  </thead>\n",
       "  <tbody>\n",
       "    <tr>\n",
       "      <th>Togo</th>\n",
       "      <td>Soybeans</td>\n",
       "      <td>0.01</td>\n",
       "      <td>0.0</td>\n",
       "    </tr>\n",
       "    <tr>\n",
       "      <th>Paraguay</th>\n",
       "      <td>Soybeans</td>\n",
       "      <td>0.00</td>\n",
       "      <td>0.0</td>\n",
       "    </tr>\n",
       "    <tr>\n",
       "      <th>Saudi Arabia</th>\n",
       "      <td>Pork</td>\n",
       "      <td>0.00</td>\n",
       "      <td>0.0</td>\n",
       "    </tr>\n",
       "    <tr>\n",
       "      <th>Cambodia</th>\n",
       "      <td>Lamb &amp; Goat</td>\n",
       "      <td>0.00</td>\n",
       "      <td>0.0</td>\n",
       "    </tr>\n",
       "    <tr>\n",
       "      <th>Croatia</th>\n",
       "      <td>Soybeans</td>\n",
       "      <td>0.00</td>\n",
       "      <td>0.0</td>\n",
       "    </tr>\n",
       "  </tbody>\n",
       "</table>\n",
       "</div>"
      ],
      "text/plain": [
       "             food_category  consumption  co2_emmission\n",
       "country                                               \n",
       "Togo              Soybeans         0.01            0.0\n",
       "Paraguay          Soybeans         0.00            0.0\n",
       "Saudi Arabia          Pork         0.00            0.0\n",
       "Cambodia       Lamb & Goat         0.00            0.0\n",
       "Croatia           Soybeans         0.00            0.0"
      ]
     },
     "execution_count": 40,
     "metadata": {},
     "output_type": "execute_result"
    }
   ],
   "source": [
    "df.sort_values(by='co2_emmission').head()"
   ]
  },
  {
   "cell_type": "code",
   "execution_count": 41,
   "metadata": {
    "pycharm": {
     "name": "#%%\n"
    }
   },
   "outputs": [
    {
     "data": {
      "text/plain": [
       "Pork                        130\n",
       "Poultry                     130\n",
       "Beef                        130\n",
       "Lamb & Goat                 130\n",
       "Fish                        130\n",
       "Eggs                        130\n",
       "Milk - inc. cheese          130\n",
       "Wheat and Wheat Products    130\n",
       "Rice                        130\n",
       "Soybeans                    130\n",
       "Nuts inc. Peanut Butter     130\n",
       "Name: food_category, dtype: int64"
      ]
     },
     "execution_count": 41,
     "metadata": {},
     "output_type": "execute_result"
    }
   ],
   "source": [
    "df['food_category'].value_counts()"
   ]
  },
  {
   "cell_type": "markdown",
   "metadata": {
    "pycharm": {
     "name": "#%% md\n"
    }
   },
   "source": [
    "#### Applying Custom Functions\n",
    "\n",
    "There might be cases when you want to apply a function not built-in to Pandas. For this, we also have methods:\n",
    "\n",
    "- `df.apply()`, applies a function column-wise or row-wise across a dataframe (the function must be able to accept/return an array)\n",
    "- `df.applymap()`, applies a function element-wise (for functions that accept/return single values at a time)\n",
    "- `series.apply()`/`series.map()`, same as above but for Pandas series"
   ]
  },
  {
   "cell_type": "code",
   "execution_count": 42,
   "metadata": {
    "pycharm": {
     "name": "#%%\n"
    }
   },
   "outputs": [
    {
     "data": {
      "text/html": [
       "<div>\n",
       "<style scoped>\n",
       "    .dataframe tbody tr th:only-of-type {\n",
       "        vertical-align: middle;\n",
       "    }\n",
       "\n",
       "    .dataframe tbody tr th {\n",
       "        vertical-align: top;\n",
       "    }\n",
       "\n",
       "    .dataframe thead th {\n",
       "        text-align: right;\n",
       "    }\n",
       "</style>\n",
       "<table border=\"1\" class=\"dataframe\">\n",
       "  <thead>\n",
       "    <tr style=\"text-align: right;\">\n",
       "      <th></th>\n",
       "      <th>consumption</th>\n",
       "      <th>co2_emmission</th>\n",
       "    </tr>\n",
       "    <tr>\n",
       "      <th>country</th>\n",
       "      <th></th>\n",
       "      <th></th>\n",
       "    </tr>\n",
       "  </thead>\n",
       "  <tbody>\n",
       "    <tr>\n",
       "      <th>Argentina</th>\n",
       "      <td>3.241913</td>\n",
       "      <td>6.099180</td>\n",
       "    </tr>\n",
       "    <tr>\n",
       "      <th>Argentina</th>\n",
       "      <td>6.217717</td>\n",
       "      <td>6.444377</td>\n",
       "    </tr>\n",
       "    <tr>\n",
       "      <th>Argentina</th>\n",
       "      <td>7.448490</td>\n",
       "      <td>41.376322</td>\n",
       "    </tr>\n",
       "    <tr>\n",
       "      <th>Argentina</th>\n",
       "      <td>1.249000</td>\n",
       "      <td>7.391211</td>\n",
       "    </tr>\n",
       "    <tr>\n",
       "      <th>Argentina</th>\n",
       "      <td>2.088061</td>\n",
       "      <td>2.638181</td>\n",
       "    </tr>\n",
       "    <tr>\n",
       "      <th>...</th>\n",
       "      <td>...</td>\n",
       "      <td>...</td>\n",
       "    </tr>\n",
       "    <tr>\n",
       "      <th>Bangladesh</th>\n",
       "      <td>4.680812</td>\n",
       "      <td>5.586591</td>\n",
       "    </tr>\n",
       "    <tr>\n",
       "      <th>Bangladesh</th>\n",
       "      <td>4.179713</td>\n",
       "      <td>1.824829</td>\n",
       "    </tr>\n",
       "    <tr>\n",
       "      <th>Bangladesh</th>\n",
       "      <td>13.104579</td>\n",
       "      <td>14.824304</td>\n",
       "    </tr>\n",
       "    <tr>\n",
       "      <th>Bangladesh</th>\n",
       "      <td>0.781025</td>\n",
       "      <td>0.519615</td>\n",
       "    </tr>\n",
       "    <tr>\n",
       "      <th>Bangladesh</th>\n",
       "      <td>0.848528</td>\n",
       "      <td>1.126943</td>\n",
       "    </tr>\n",
       "  </tbody>\n",
       "</table>\n",
       "<p>1430 rows × 2 columns</p>\n",
       "</div>"
      ],
      "text/plain": [
       "            consumption  co2_emmission\n",
       "country                               \n",
       "Argentina      3.241913       6.099180\n",
       "Argentina      6.217717       6.444377\n",
       "Argentina      7.448490      41.376322\n",
       "Argentina      1.249000       7.391211\n",
       "Argentina      2.088061       2.638181\n",
       "...                 ...            ...\n",
       "Bangladesh     4.680812       5.586591\n",
       "Bangladesh     4.179713       1.824829\n",
       "Bangladesh    13.104579      14.824304\n",
       "Bangladesh     0.781025       0.519615\n",
       "Bangladesh     0.848528       1.126943\n",
       "\n",
       "[1430 rows x 2 columns]"
      ]
     },
     "execution_count": 42,
     "metadata": {},
     "output_type": "execute_result"
    }
   ],
   "source": [
    "df[['consumption', 'co2_emmission']].apply(np.sqrt)"
   ]
  },
  {
   "cell_type": "code",
   "execution_count": 43,
   "metadata": {
    "pycharm": {
     "name": "#%%\n"
    }
   },
   "outputs": [
    {
     "data": {
      "text/html": [
       "<div>\n",
       "<style scoped>\n",
       "    .dataframe tbody tr th:only-of-type {\n",
       "        vertical-align: middle;\n",
       "    }\n",
       "\n",
       "    .dataframe tbody tr th {\n",
       "        vertical-align: top;\n",
       "    }\n",
       "\n",
       "    .dataframe thead th {\n",
       "        text-align: right;\n",
       "    }\n",
       "</style>\n",
       "<table border=\"1\" class=\"dataframe\">\n",
       "  <thead>\n",
       "    <tr style=\"text-align: right;\">\n",
       "      <th></th>\n",
       "      <th>food_category</th>\n",
       "    </tr>\n",
       "    <tr>\n",
       "      <th>country</th>\n",
       "      <th></th>\n",
       "    </tr>\n",
       "  </thead>\n",
       "  <tbody>\n",
       "    <tr>\n",
       "      <th>Argentina</th>\n",
       "      <td>4</td>\n",
       "    </tr>\n",
       "    <tr>\n",
       "      <th>Argentina</th>\n",
       "      <td>7</td>\n",
       "    </tr>\n",
       "    <tr>\n",
       "      <th>Argentina</th>\n",
       "      <td>4</td>\n",
       "    </tr>\n",
       "    <tr>\n",
       "      <th>Argentina</th>\n",
       "      <td>11</td>\n",
       "    </tr>\n",
       "    <tr>\n",
       "      <th>Argentina</th>\n",
       "      <td>4</td>\n",
       "    </tr>\n",
       "    <tr>\n",
       "      <th>...</th>\n",
       "      <td>...</td>\n",
       "    </tr>\n",
       "    <tr>\n",
       "      <th>Bangladesh</th>\n",
       "      <td>18</td>\n",
       "    </tr>\n",
       "    <tr>\n",
       "      <th>Bangladesh</th>\n",
       "      <td>24</td>\n",
       "    </tr>\n",
       "    <tr>\n",
       "      <th>Bangladesh</th>\n",
       "      <td>4</td>\n",
       "    </tr>\n",
       "    <tr>\n",
       "      <th>Bangladesh</th>\n",
       "      <td>8</td>\n",
       "    </tr>\n",
       "    <tr>\n",
       "      <th>Bangladesh</th>\n",
       "      <td>23</td>\n",
       "    </tr>\n",
       "  </tbody>\n",
       "</table>\n",
       "<p>1430 rows × 1 columns</p>\n",
       "</div>"
      ],
      "text/plain": [
       "            food_category\n",
       "country                  \n",
       "Argentina               4\n",
       "Argentina               7\n",
       "Argentina               4\n",
       "Argentina              11\n",
       "Argentina               4\n",
       "...                   ...\n",
       "Bangladesh             18\n",
       "Bangladesh             24\n",
       "Bangladesh              4\n",
       "Bangladesh              8\n",
       "Bangladesh             23\n",
       "\n",
       "[1430 rows x 1 columns]"
      ]
     },
     "execution_count": 43,
     "metadata": {},
     "output_type": "execute_result"
    }
   ],
   "source": [
    "def length_of_category(x):\n",
    "    return len(x)\n",
    "\n",
    "\n",
    "df[['food_category']].applymap(length_of_category)"
   ]
  },
  {
   "cell_type": "markdown",
   "metadata": {
    "pycharm": {
     "name": "#%% md\n"
    }
   },
   "source": [
    "#### Grouping\n",
    "\n",
    "Often we are interested in examining specific groups in our data. `df.groupby()` allows us to group our data based on a variable(s):"
   ]
  },
  {
   "cell_type": "code",
   "execution_count": 44,
   "metadata": {
    "pycharm": {
     "name": "#%%\n"
    }
   },
   "outputs": [],
   "source": [
    "dfg = df.groupby(by='food_category')"
   ]
  },
  {
   "cell_type": "markdown",
   "metadata": {
    "pycharm": {
     "name": "#%% md\n"
    }
   },
   "source": [
    "The _groupby_ object is really just a dictionary of index-mappings, which we could look at if we wanted to:"
   ]
  },
  {
   "cell_type": "code",
   "execution_count": 45,
   "metadata": {
    "pycharm": {
     "name": "#%%\n"
    }
   },
   "outputs": [
    {
     "data": {
      "text/plain": [
       "{'Beef': ['Argentina', 'Australia', 'Albania', 'Iceland', 'New Zealand', 'USA', 'Uruguay', 'Luxembourg', 'Brazil', 'Kazakhstan', 'Sweden', 'Bermuda', 'Denmark', 'Finland', 'Ireland', 'Greece', 'France', 'Canada', 'Norway', 'Hong Kong SAR. China', 'French Polynesia', 'Israel', 'Switzerland', 'Netherlands', 'Kuwait', 'United Kingdom', 'Austria', 'Oman', 'Italy', 'Bahamas', 'Portugal', 'Malta', 'Armenia', 'Slovenia', 'Chile', 'Venezuela', 'Belgium', 'Germany', 'Russia', 'Croatia', 'Belarus', 'Spain', 'Paraguay', 'New Caledonia', 'South Africa', 'Barbados', 'Lithuania', 'Turkey', 'Estonia', 'Mexico', 'Costa Rica', 'Bolivia', 'Ecuador', 'Panama', 'Czech Republic', 'Romania', 'Colombia', 'Maldives', 'Cyprus', 'Serbia', 'United Arab Emirates', 'Algeria', 'Ukraine', 'Pakistan', 'Swaziland', 'Latvia', 'Bosnia and Herzegovina', 'Fiji', 'South Korea', 'Poland', 'Saudi Arabia', 'Botswana', 'Macedonia', 'Hungary', 'Trinidad and Tobago', 'Tunisia', 'Egypt', 'Mauritius', 'Bulgaria', 'Morocco', 'Slovakia', 'Niger', 'Kenya', 'Jordan', 'Japan', 'Georgia', 'Grenada', 'El Salvador', 'Cuba', 'China', 'Honduras', 'Taiwan. ROC', 'Angola', 'Jamaica', 'Namibia', 'Belize', 'Malaysia', 'Zimbabwe', 'Guatemala', 'Uganda', ...], 'Eggs': ['Argentina', 'Australia', 'Albania', 'Iceland', 'New Zealand', 'USA', 'Uruguay', 'Luxembourg', 'Brazil', 'Kazakhstan', 'Sweden', 'Bermuda', 'Denmark', 'Finland', 'Ireland', 'Greece', 'France', 'Canada', 'Norway', 'Hong Kong SAR. China', 'French Polynesia', 'Israel', 'Switzerland', 'Netherlands', 'Kuwait', 'United Kingdom', 'Austria', 'Oman', 'Italy', 'Bahamas', 'Portugal', 'Malta', 'Armenia', 'Slovenia', 'Chile', 'Venezuela', 'Belgium', 'Germany', 'Russia', 'Croatia', 'Belarus', 'Spain', 'Paraguay', 'New Caledonia', 'South Africa', 'Barbados', 'Lithuania', 'Turkey', 'Estonia', 'Mexico', 'Costa Rica', 'Bolivia', 'Ecuador', 'Panama', 'Czech Republic', 'Romania', 'Colombia', 'Maldives', 'Cyprus', 'Serbia', 'United Arab Emirates', 'Algeria', 'Ukraine', 'Pakistan', 'Swaziland', 'Latvia', 'Bosnia and Herzegovina', 'Fiji', 'South Korea', 'Poland', 'Saudi Arabia', 'Botswana', 'Macedonia', 'Hungary', 'Trinidad and Tobago', 'Tunisia', 'Egypt', 'Mauritius', 'Bulgaria', 'Morocco', 'Slovakia', 'Niger', 'Kenya', 'Jordan', 'Japan', 'Georgia', 'Grenada', 'El Salvador', 'Cuba', 'China', 'Honduras', 'Taiwan. ROC', 'Angola', 'Jamaica', 'Namibia', 'Belize', 'Malaysia', 'Zimbabwe', 'Guatemala', 'Uganda', ...], 'Fish': ['Argentina', 'Australia', 'Albania', 'Iceland', 'New Zealand', 'USA', 'Uruguay', 'Luxembourg', 'Brazil', 'Kazakhstan', 'Sweden', 'Bermuda', 'Denmark', 'Finland', 'Ireland', 'Greece', 'France', 'Canada', 'Norway', 'Hong Kong SAR. China', 'French Polynesia', 'Israel', 'Switzerland', 'Netherlands', 'Kuwait', 'United Kingdom', 'Austria', 'Oman', 'Italy', 'Bahamas', 'Portugal', 'Malta', 'Armenia', 'Slovenia', 'Chile', 'Venezuela', 'Belgium', 'Germany', 'Russia', 'Croatia', 'Belarus', 'Spain', 'Paraguay', 'New Caledonia', 'South Africa', 'Barbados', 'Lithuania', 'Turkey', 'Estonia', 'Mexico', 'Costa Rica', 'Bolivia', 'Ecuador', 'Panama', 'Czech Republic', 'Romania', 'Colombia', 'Maldives', 'Cyprus', 'Serbia', 'United Arab Emirates', 'Algeria', 'Ukraine', 'Pakistan', 'Swaziland', 'Latvia', 'Bosnia and Herzegovina', 'Fiji', 'South Korea', 'Poland', 'Saudi Arabia', 'Botswana', 'Macedonia', 'Hungary', 'Trinidad and Tobago', 'Tunisia', 'Egypt', 'Mauritius', 'Bulgaria', 'Morocco', 'Slovakia', 'Niger', 'Kenya', 'Jordan', 'Japan', 'Georgia', 'Grenada', 'El Salvador', 'Cuba', 'China', 'Honduras', 'Taiwan. ROC', 'Angola', 'Jamaica', 'Namibia', 'Belize', 'Malaysia', 'Zimbabwe', 'Guatemala', 'Uganda', ...], 'Lamb & Goat': ['Argentina', 'Australia', 'Albania', 'Iceland', 'New Zealand', 'USA', 'Uruguay', 'Luxembourg', 'Brazil', 'Kazakhstan', 'Sweden', 'Bermuda', 'Denmark', 'Finland', 'Ireland', 'Greece', 'France', 'Canada', 'Norway', 'Hong Kong SAR. China', 'French Polynesia', 'Israel', 'Switzerland', 'Netherlands', 'Kuwait', 'United Kingdom', 'Austria', 'Oman', 'Italy', 'Bahamas', 'Portugal', 'Malta', 'Armenia', 'Slovenia', 'Chile', 'Venezuela', 'Belgium', 'Germany', 'Russia', 'Croatia', 'Belarus', 'Spain', 'Paraguay', 'New Caledonia', 'South Africa', 'Barbados', 'Lithuania', 'Turkey', 'Estonia', 'Mexico', 'Costa Rica', 'Bolivia', 'Ecuador', 'Panama', 'Czech Republic', 'Romania', 'Colombia', 'Maldives', 'Cyprus', 'Serbia', 'United Arab Emirates', 'Algeria', 'Ukraine', 'Pakistan', 'Swaziland', 'Latvia', 'Bosnia and Herzegovina', 'Fiji', 'South Korea', 'Poland', 'Saudi Arabia', 'Botswana', 'Macedonia', 'Hungary', 'Trinidad and Tobago', 'Tunisia', 'Egypt', 'Mauritius', 'Bulgaria', 'Morocco', 'Slovakia', 'Niger', 'Kenya', 'Jordan', 'Japan', 'Georgia', 'Grenada', 'El Salvador', 'Cuba', 'China', 'Honduras', 'Taiwan. ROC', 'Angola', 'Jamaica', 'Namibia', 'Belize', 'Malaysia', 'Zimbabwe', 'Guatemala', 'Uganda', ...], 'Milk - inc. cheese': ['Argentina', 'Australia', 'Albania', 'Iceland', 'New Zealand', 'USA', 'Uruguay', 'Luxembourg', 'Brazil', 'Kazakhstan', 'Sweden', 'Bermuda', 'Denmark', 'Finland', 'Ireland', 'Greece', 'France', 'Canada', 'Norway', 'Hong Kong SAR. China', 'French Polynesia', 'Israel', 'Switzerland', 'Netherlands', 'Kuwait', 'United Kingdom', 'Austria', 'Oman', 'Italy', 'Bahamas', 'Portugal', 'Malta', 'Armenia', 'Slovenia', 'Chile', 'Venezuela', 'Belgium', 'Germany', 'Russia', 'Croatia', 'Belarus', 'Spain', 'Paraguay', 'New Caledonia', 'South Africa', 'Barbados', 'Lithuania', 'Turkey', 'Estonia', 'Mexico', 'Costa Rica', 'Bolivia', 'Ecuador', 'Panama', 'Czech Republic', 'Romania', 'Colombia', 'Maldives', 'Cyprus', 'Serbia', 'United Arab Emirates', 'Algeria', 'Ukraine', 'Pakistan', 'Swaziland', 'Latvia', 'Bosnia and Herzegovina', 'Fiji', 'South Korea', 'Poland', 'Saudi Arabia', 'Botswana', 'Macedonia', 'Hungary', 'Trinidad and Tobago', 'Tunisia', 'Egypt', 'Mauritius', 'Bulgaria', 'Morocco', 'Slovakia', 'Niger', 'Kenya', 'Jordan', 'Japan', 'Georgia', 'Grenada', 'El Salvador', 'Cuba', 'China', 'Honduras', 'Taiwan. ROC', 'Angola', 'Jamaica', 'Namibia', 'Belize', 'Malaysia', 'Zimbabwe', 'Guatemala', 'Uganda', ...], 'Nuts inc. Peanut Butter': ['Argentina', 'Australia', 'Albania', 'Iceland', 'New Zealand', 'USA', 'Uruguay', 'Luxembourg', 'Brazil', 'Kazakhstan', 'Sweden', 'Bermuda', 'Denmark', 'Finland', 'Ireland', 'Greece', 'France', 'Canada', 'Norway', 'Hong Kong SAR. China', 'French Polynesia', 'Israel', 'Switzerland', 'Netherlands', 'Kuwait', 'United Kingdom', 'Austria', 'Oman', 'Italy', 'Bahamas', 'Portugal', 'Malta', 'Armenia', 'Slovenia', 'Chile', 'Venezuela', 'Belgium', 'Germany', 'Russia', 'Croatia', 'Belarus', 'Spain', 'Paraguay', 'New Caledonia', 'South Africa', 'Barbados', 'Lithuania', 'Turkey', 'Estonia', 'Mexico', 'Costa Rica', 'Bolivia', 'Ecuador', 'Panama', 'Czech Republic', 'Romania', 'Colombia', 'Maldives', 'Cyprus', 'Serbia', 'United Arab Emirates', 'Algeria', 'Ukraine', 'Pakistan', 'Swaziland', 'Latvia', 'Bosnia and Herzegovina', 'Fiji', 'South Korea', 'Poland', 'Saudi Arabia', 'Botswana', 'Macedonia', 'Hungary', 'Trinidad and Tobago', 'Tunisia', 'Egypt', 'Mauritius', 'Bulgaria', 'Morocco', 'Slovakia', 'Niger', 'Kenya', 'Jordan', 'Japan', 'Georgia', 'Grenada', 'El Salvador', 'Cuba', 'China', 'Honduras', 'Taiwan. ROC', 'Angola', 'Jamaica', 'Namibia', 'Belize', 'Malaysia', 'Zimbabwe', 'Guatemala', 'Uganda', ...], 'Pork': ['Argentina', 'Australia', 'Albania', 'Iceland', 'New Zealand', 'USA', 'Uruguay', 'Luxembourg', 'Brazil', 'Kazakhstan', 'Sweden', 'Bermuda', 'Denmark', 'Finland', 'Ireland', 'Greece', 'France', 'Canada', 'Norway', 'Hong Kong SAR. China', 'French Polynesia', 'Israel', 'Switzerland', 'Netherlands', 'Kuwait', 'United Kingdom', 'Austria', 'Oman', 'Italy', 'Bahamas', 'Portugal', 'Malta', 'Armenia', 'Slovenia', 'Chile', 'Venezuela', 'Belgium', 'Germany', 'Russia', 'Croatia', 'Belarus', 'Spain', 'Paraguay', 'New Caledonia', 'South Africa', 'Barbados', 'Lithuania', 'Turkey', 'Estonia', 'Mexico', 'Costa Rica', 'Bolivia', 'Ecuador', 'Panama', 'Czech Republic', 'Romania', 'Colombia', 'Maldives', 'Cyprus', 'Serbia', 'United Arab Emirates', 'Algeria', 'Ukraine', 'Pakistan', 'Swaziland', 'Latvia', 'Bosnia and Herzegovina', 'Fiji', 'South Korea', 'Poland', 'Saudi Arabia', 'Botswana', 'Macedonia', 'Hungary', 'Trinidad and Tobago', 'Tunisia', 'Egypt', 'Mauritius', 'Bulgaria', 'Morocco', 'Slovakia', 'Niger', 'Kenya', 'Jordan', 'Japan', 'Georgia', 'Grenada', 'El Salvador', 'Cuba', 'China', 'Honduras', 'Taiwan. ROC', 'Angola', 'Jamaica', 'Namibia', 'Belize', 'Malaysia', 'Zimbabwe', 'Guatemala', 'Uganda', ...], 'Poultry': ['Argentina', 'Australia', 'Albania', 'Iceland', 'New Zealand', 'USA', 'Uruguay', 'Luxembourg', 'Brazil', 'Kazakhstan', 'Sweden', 'Bermuda', 'Denmark', 'Finland', 'Ireland', 'Greece', 'France', 'Canada', 'Norway', 'Hong Kong SAR. China', 'French Polynesia', 'Israel', 'Switzerland', 'Netherlands', 'Kuwait', 'United Kingdom', 'Austria', 'Oman', 'Italy', 'Bahamas', 'Portugal', 'Malta', 'Armenia', 'Slovenia', 'Chile', 'Venezuela', 'Belgium', 'Germany', 'Russia', 'Croatia', 'Belarus', 'Spain', 'Paraguay', 'New Caledonia', 'South Africa', 'Barbados', 'Lithuania', 'Turkey', 'Estonia', 'Mexico', 'Costa Rica', 'Bolivia', 'Ecuador', 'Panama', 'Czech Republic', 'Romania', 'Colombia', 'Maldives', 'Cyprus', 'Serbia', 'United Arab Emirates', 'Algeria', 'Ukraine', 'Pakistan', 'Swaziland', 'Latvia', 'Bosnia and Herzegovina', 'Fiji', 'South Korea', 'Poland', 'Saudi Arabia', 'Botswana', 'Macedonia', 'Hungary', 'Trinidad and Tobago', 'Tunisia', 'Egypt', 'Mauritius', 'Bulgaria', 'Morocco', 'Slovakia', 'Niger', 'Kenya', 'Jordan', 'Japan', 'Georgia', 'Grenada', 'El Salvador', 'Cuba', 'China', 'Honduras', 'Taiwan. ROC', 'Angola', 'Jamaica', 'Namibia', 'Belize', 'Malaysia', 'Zimbabwe', 'Guatemala', 'Uganda', ...], 'Rice': ['Argentina', 'Australia', 'Albania', 'Iceland', 'New Zealand', 'USA', 'Uruguay', 'Luxembourg', 'Brazil', 'Kazakhstan', 'Sweden', 'Bermuda', 'Denmark', 'Finland', 'Ireland', 'Greece', 'France', 'Canada', 'Norway', 'Hong Kong SAR. China', 'French Polynesia', 'Israel', 'Switzerland', 'Netherlands', 'Kuwait', 'United Kingdom', 'Austria', 'Oman', 'Italy', 'Bahamas', 'Portugal', 'Malta', 'Armenia', 'Slovenia', 'Chile', 'Venezuela', 'Belgium', 'Germany', 'Russia', 'Croatia', 'Belarus', 'Spain', 'Paraguay', 'New Caledonia', 'South Africa', 'Barbados', 'Lithuania', 'Turkey', 'Estonia', 'Mexico', 'Costa Rica', 'Bolivia', 'Ecuador', 'Panama', 'Czech Republic', 'Romania', 'Colombia', 'Maldives', 'Cyprus', 'Serbia', 'United Arab Emirates', 'Algeria', 'Ukraine', 'Pakistan', 'Swaziland', 'Latvia', 'Bosnia and Herzegovina', 'Fiji', 'South Korea', 'Poland', 'Saudi Arabia', 'Botswana', 'Macedonia', 'Hungary', 'Trinidad and Tobago', 'Tunisia', 'Egypt', 'Mauritius', 'Bulgaria', 'Morocco', 'Slovakia', 'Niger', 'Kenya', 'Jordan', 'Japan', 'Georgia', 'Grenada', 'El Salvador', 'Cuba', 'China', 'Honduras', 'Taiwan. ROC', 'Angola', 'Jamaica', 'Namibia', 'Belize', 'Malaysia', 'Zimbabwe', 'Guatemala', 'Uganda', ...], 'Soybeans': ['Argentina', 'Australia', 'Albania', 'Iceland', 'New Zealand', 'USA', 'Uruguay', 'Luxembourg', 'Brazil', 'Kazakhstan', 'Sweden', 'Bermuda', 'Denmark', 'Finland', 'Ireland', 'Greece', 'France', 'Canada', 'Norway', 'Hong Kong SAR. China', 'French Polynesia', 'Israel', 'Switzerland', 'Netherlands', 'Kuwait', 'United Kingdom', 'Austria', 'Oman', 'Italy', 'Bahamas', 'Portugal', 'Malta', 'Armenia', 'Slovenia', 'Chile', 'Venezuela', 'Belgium', 'Germany', 'Russia', 'Croatia', 'Belarus', 'Spain', 'Paraguay', 'New Caledonia', 'South Africa', 'Barbados', 'Lithuania', 'Turkey', 'Estonia', 'Mexico', 'Costa Rica', 'Bolivia', 'Ecuador', 'Panama', 'Czech Republic', 'Romania', 'Colombia', 'Maldives', 'Cyprus', 'Serbia', 'United Arab Emirates', 'Algeria', 'Ukraine', 'Pakistan', 'Swaziland', 'Latvia', 'Bosnia and Herzegovina', 'Fiji', 'South Korea', 'Poland', 'Saudi Arabia', 'Botswana', 'Macedonia', 'Hungary', 'Trinidad and Tobago', 'Tunisia', 'Egypt', 'Mauritius', 'Bulgaria', 'Morocco', 'Slovakia', 'Niger', 'Kenya', 'Jordan', 'Japan', 'Georgia', 'Grenada', 'El Salvador', 'Cuba', 'China', 'Honduras', 'Taiwan. ROC', 'Angola', 'Jamaica', 'Namibia', 'Belize', 'Malaysia', 'Zimbabwe', 'Guatemala', 'Uganda', ...], 'Wheat and Wheat Products': ['Argentina', 'Australia', 'Albania', 'Iceland', 'New Zealand', 'USA', 'Uruguay', 'Luxembourg', 'Brazil', 'Kazakhstan', 'Sweden', 'Bermuda', 'Denmark', 'Finland', 'Ireland', 'Greece', 'France', 'Canada', 'Norway', 'Hong Kong SAR. China', 'French Polynesia', 'Israel', 'Switzerland', 'Netherlands', 'Kuwait', 'United Kingdom', 'Austria', 'Oman', 'Italy', 'Bahamas', 'Portugal', 'Malta', 'Armenia', 'Slovenia', 'Chile', 'Venezuela', 'Belgium', 'Germany', 'Russia', 'Croatia', 'Belarus', 'Spain', 'Paraguay', 'New Caledonia', 'South Africa', 'Barbados', 'Lithuania', 'Turkey', 'Estonia', 'Mexico', 'Costa Rica', 'Bolivia', 'Ecuador', 'Panama', 'Czech Republic', 'Romania', 'Colombia', 'Maldives', 'Cyprus', 'Serbia', 'United Arab Emirates', 'Algeria', 'Ukraine', 'Pakistan', 'Swaziland', 'Latvia', 'Bosnia and Herzegovina', 'Fiji', 'South Korea', 'Poland', 'Saudi Arabia', 'Botswana', 'Macedonia', 'Hungary', 'Trinidad and Tobago', 'Tunisia', 'Egypt', 'Mauritius', 'Bulgaria', 'Morocco', 'Slovakia', 'Niger', 'Kenya', 'Jordan', 'Japan', 'Georgia', 'Grenada', 'El Salvador', 'Cuba', 'China', 'Honduras', 'Taiwan. ROC', 'Angola', 'Jamaica', 'Namibia', 'Belize', 'Malaysia', 'Zimbabwe', 'Guatemala', 'Uganda', ...]}"
      ]
     },
     "execution_count": 45,
     "metadata": {},
     "output_type": "execute_result"
    }
   ],
   "source": [
    "dfg.groups"
   ]
  },
  {
   "cell_type": "markdown",
   "metadata": {
    "pycharm": {
     "name": "#%% md\n"
    }
   },
   "source": [
    "Let's access a group using the .get_group() method:"
   ]
  },
  {
   "cell_type": "code",
   "execution_count": 46,
   "metadata": {
    "pycharm": {
     "name": "#%%\n"
    }
   },
   "outputs": [
    {
     "data": {
      "text/html": [
       "<div>\n",
       "<style scoped>\n",
       "    .dataframe tbody tr th:only-of-type {\n",
       "        vertical-align: middle;\n",
       "    }\n",
       "\n",
       "    .dataframe tbody tr th {\n",
       "        vertical-align: top;\n",
       "    }\n",
       "\n",
       "    .dataframe thead th {\n",
       "        text-align: right;\n",
       "    }\n",
       "</style>\n",
       "<table border=\"1\" class=\"dataframe\">\n",
       "  <thead>\n",
       "    <tr style=\"text-align: right;\">\n",
       "      <th></th>\n",
       "      <th>food_category</th>\n",
       "      <th>consumption</th>\n",
       "      <th>co2_emmission</th>\n",
       "    </tr>\n",
       "    <tr>\n",
       "      <th>country</th>\n",
       "      <th></th>\n",
       "      <th></th>\n",
       "      <th></th>\n",
       "    </tr>\n",
       "  </thead>\n",
       "  <tbody>\n",
       "    <tr>\n",
       "      <th>Argentina</th>\n",
       "      <td>Beef</td>\n",
       "      <td>55.48</td>\n",
       "      <td>1712.00</td>\n",
       "    </tr>\n",
       "    <tr>\n",
       "      <th>Australia</th>\n",
       "      <td>Beef</td>\n",
       "      <td>33.86</td>\n",
       "      <td>1044.85</td>\n",
       "    </tr>\n",
       "    <tr>\n",
       "      <th>Albania</th>\n",
       "      <td>Beef</td>\n",
       "      <td>22.50</td>\n",
       "      <td>694.30</td>\n",
       "    </tr>\n",
       "    <tr>\n",
       "      <th>Iceland</th>\n",
       "      <td>Beef</td>\n",
       "      <td>13.36</td>\n",
       "      <td>412.26</td>\n",
       "    </tr>\n",
       "    <tr>\n",
       "      <th>New Zealand</th>\n",
       "      <td>Beef</td>\n",
       "      <td>22.49</td>\n",
       "      <td>693.99</td>\n",
       "    </tr>\n",
       "  </tbody>\n",
       "</table>\n",
       "</div>"
      ],
      "text/plain": [
       "            food_category  consumption  co2_emmission\n",
       "country                                              \n",
       "Argentina            Beef        55.48        1712.00\n",
       "Australia            Beef        33.86        1044.85\n",
       "Albania              Beef        22.50         694.30\n",
       "Iceland              Beef        13.36         412.26\n",
       "New Zealand          Beef        22.49         693.99"
      ]
     },
     "execution_count": 46,
     "metadata": {},
     "output_type": "execute_result"
    }
   ],
   "source": [
    "dfg.get_group('Beef').head()"
   ]
  },
  {
   "cell_type": "markdown",
   "metadata": {
    "pycharm": {
     "name": "#%% md\n"
    }
   },
   "source": [
    "The usual thing to do however, is to apply aggregate functions to the _groupby_ object:"
   ]
  },
  {
   "cell_type": "code",
   "execution_count": 47,
   "metadata": {
    "pycharm": {
     "name": "#%%\n"
    }
   },
   "outputs": [
    {
     "data": {
      "text/html": [
       "<div>\n",
       "<style scoped>\n",
       "    .dataframe tbody tr th:only-of-type {\n",
       "        vertical-align: middle;\n",
       "    }\n",
       "\n",
       "    .dataframe tbody tr th {\n",
       "        vertical-align: top;\n",
       "    }\n",
       "\n",
       "    .dataframe thead th {\n",
       "        text-align: right;\n",
       "    }\n",
       "</style>\n",
       "<table border=\"1\" class=\"dataframe\">\n",
       "  <thead>\n",
       "    <tr style=\"text-align: right;\">\n",
       "      <th></th>\n",
       "      <th>consumption</th>\n",
       "      <th>co2_emmission</th>\n",
       "    </tr>\n",
       "    <tr>\n",
       "      <th>food_category</th>\n",
       "      <th></th>\n",
       "      <th></th>\n",
       "    </tr>\n",
       "  </thead>\n",
       "  <tbody>\n",
       "    <tr>\n",
       "      <th>Beef</th>\n",
       "      <td>12.123385</td>\n",
       "      <td>374.102000</td>\n",
       "    </tr>\n",
       "    <tr>\n",
       "      <th>Eggs</th>\n",
       "      <td>8.163769</td>\n",
       "      <td>7.499615</td>\n",
       "    </tr>\n",
       "    <tr>\n",
       "      <th>Fish</th>\n",
       "      <td>17.287077</td>\n",
       "      <td>27.601692</td>\n",
       "    </tr>\n",
       "    <tr>\n",
       "      <th>Lamb &amp; Goat</th>\n",
       "      <td>2.600154</td>\n",
       "      <td>91.056769</td>\n",
       "    </tr>\n",
       "    <tr>\n",
       "      <th>Milk - inc. cheese</th>\n",
       "      <td>125.774692</td>\n",
       "      <td>179.153846</td>\n",
       "    </tr>\n",
       "    <tr>\n",
       "      <th>Nuts inc. Peanut Butter</th>\n",
       "      <td>4.137231</td>\n",
       "      <td>7.323000</td>\n",
       "    </tr>\n",
       "    <tr>\n",
       "      <th>Pork</th>\n",
       "      <td>16.123692</td>\n",
       "      <td>57.070077</td>\n",
       "    </tr>\n",
       "    <tr>\n",
       "      <th>Poultry</th>\n",
       "      <td>21.219231</td>\n",
       "      <td>22.793538</td>\n",
       "    </tr>\n",
       "    <tr>\n",
       "      <th>Rice</th>\n",
       "      <td>29.375154</td>\n",
       "      <td>37.591615</td>\n",
       "    </tr>\n",
       "    <tr>\n",
       "      <th>Soybeans</th>\n",
       "      <td>0.860538</td>\n",
       "      <td>0.387308</td>\n",
       "    </tr>\n",
       "    <tr>\n",
       "      <th>Wheat and Wheat Products</th>\n",
       "      <td>71.549538</td>\n",
       "      <td>13.644462</td>\n",
       "    </tr>\n",
       "  </tbody>\n",
       "</table>\n",
       "</div>"
      ],
      "text/plain": [
       "                          consumption  co2_emmission\n",
       "food_category                                       \n",
       "Beef                        12.123385     374.102000\n",
       "Eggs                         8.163769       7.499615\n",
       "Fish                        17.287077      27.601692\n",
       "Lamb & Goat                  2.600154      91.056769\n",
       "Milk - inc. cheese         125.774692     179.153846\n",
       "Nuts inc. Peanut Butter      4.137231       7.323000\n",
       "Pork                        16.123692      57.070077\n",
       "Poultry                     21.219231      22.793538\n",
       "Rice                        29.375154      37.591615\n",
       "Soybeans                     0.860538       0.387308\n",
       "Wheat and Wheat Products    71.549538      13.644462"
      ]
     },
     "execution_count": 47,
     "metadata": {},
     "output_type": "execute_result"
    }
   ],
   "source": [
    "dfg.mean()"
   ]
  },
  {
   "cell_type": "markdown",
   "metadata": {
    "pycharm": {
     "name": "#%% md\n"
    }
   },
   "source": [
    "We can apply multiple functions using _.aggregate()_:"
   ]
  },
  {
   "cell_type": "code",
   "execution_count": 48,
   "metadata": {
    "pycharm": {
     "name": "#%%\n"
    }
   },
   "outputs": [
    {
     "data": {
      "text/html": [
       "<div>\n",
       "<style scoped>\n",
       "    .dataframe tbody tr th:only-of-type {\n",
       "        vertical-align: middle;\n",
       "    }\n",
       "\n",
       "    .dataframe tbody tr th {\n",
       "        vertical-align: top;\n",
       "    }\n",
       "\n",
       "    .dataframe thead tr th {\n",
       "        text-align: left;\n",
       "    }\n",
       "\n",
       "    .dataframe thead tr:last-of-type th {\n",
       "        text-align: right;\n",
       "    }\n",
       "</style>\n",
       "<table border=\"1\" class=\"dataframe\">\n",
       "  <thead>\n",
       "    <tr>\n",
       "      <th></th>\n",
       "      <th colspan=\"3\" halign=\"left\">consumption</th>\n",
       "      <th colspan=\"3\" halign=\"left\">co2_emmission</th>\n",
       "    </tr>\n",
       "    <tr>\n",
       "      <th></th>\n",
       "      <th>mean</th>\n",
       "      <th>sum</th>\n",
       "      <th>count</th>\n",
       "      <th>mean</th>\n",
       "      <th>sum</th>\n",
       "      <th>count</th>\n",
       "    </tr>\n",
       "    <tr>\n",
       "      <th>food_category</th>\n",
       "      <th></th>\n",
       "      <th></th>\n",
       "      <th></th>\n",
       "      <th></th>\n",
       "      <th></th>\n",
       "      <th></th>\n",
       "    </tr>\n",
       "  </thead>\n",
       "  <tbody>\n",
       "    <tr>\n",
       "      <th>Beef</th>\n",
       "      <td>12.123385</td>\n",
       "      <td>1576.04</td>\n",
       "      <td>130</td>\n",
       "      <td>374.102000</td>\n",
       "      <td>48633.26</td>\n",
       "      <td>130</td>\n",
       "    </tr>\n",
       "    <tr>\n",
       "      <th>Eggs</th>\n",
       "      <td>8.163769</td>\n",
       "      <td>1061.29</td>\n",
       "      <td>130</td>\n",
       "      <td>7.499615</td>\n",
       "      <td>974.95</td>\n",
       "      <td>130</td>\n",
       "    </tr>\n",
       "    <tr>\n",
       "      <th>Fish</th>\n",
       "      <td>17.287077</td>\n",
       "      <td>2247.32</td>\n",
       "      <td>130</td>\n",
       "      <td>27.601692</td>\n",
       "      <td>3588.22</td>\n",
       "      <td>130</td>\n",
       "    </tr>\n",
       "    <tr>\n",
       "      <th>Lamb &amp; Goat</th>\n",
       "      <td>2.600154</td>\n",
       "      <td>338.02</td>\n",
       "      <td>130</td>\n",
       "      <td>91.056769</td>\n",
       "      <td>11837.38</td>\n",
       "      <td>130</td>\n",
       "    </tr>\n",
       "    <tr>\n",
       "      <th>Milk - inc. cheese</th>\n",
       "      <td>125.774692</td>\n",
       "      <td>16350.71</td>\n",
       "      <td>130</td>\n",
       "      <td>179.153846</td>\n",
       "      <td>23290.00</td>\n",
       "      <td>130</td>\n",
       "    </tr>\n",
       "    <tr>\n",
       "      <th>Nuts inc. Peanut Butter</th>\n",
       "      <td>4.137231</td>\n",
       "      <td>537.84</td>\n",
       "      <td>130</td>\n",
       "      <td>7.323000</td>\n",
       "      <td>951.99</td>\n",
       "      <td>130</td>\n",
       "    </tr>\n",
       "    <tr>\n",
       "      <th>Pork</th>\n",
       "      <td>16.123692</td>\n",
       "      <td>2096.08</td>\n",
       "      <td>130</td>\n",
       "      <td>57.070077</td>\n",
       "      <td>7419.11</td>\n",
       "      <td>130</td>\n",
       "    </tr>\n",
       "    <tr>\n",
       "      <th>Poultry</th>\n",
       "      <td>21.219231</td>\n",
       "      <td>2758.50</td>\n",
       "      <td>130</td>\n",
       "      <td>22.793538</td>\n",
       "      <td>2963.16</td>\n",
       "      <td>130</td>\n",
       "    </tr>\n",
       "    <tr>\n",
       "      <th>Rice</th>\n",
       "      <td>29.375154</td>\n",
       "      <td>3818.77</td>\n",
       "      <td>130</td>\n",
       "      <td>37.591615</td>\n",
       "      <td>4886.91</td>\n",
       "      <td>130</td>\n",
       "    </tr>\n",
       "    <tr>\n",
       "      <th>Soybeans</th>\n",
       "      <td>0.860538</td>\n",
       "      <td>111.87</td>\n",
       "      <td>130</td>\n",
       "      <td>0.387308</td>\n",
       "      <td>50.35</td>\n",
       "      <td>130</td>\n",
       "    </tr>\n",
       "    <tr>\n",
       "      <th>Wheat and Wheat Products</th>\n",
       "      <td>71.549538</td>\n",
       "      <td>9301.44</td>\n",
       "      <td>130</td>\n",
       "      <td>13.644462</td>\n",
       "      <td>1773.78</td>\n",
       "      <td>130</td>\n",
       "    </tr>\n",
       "  </tbody>\n",
       "</table>\n",
       "</div>"
      ],
      "text/plain": [
       "                         consumption                 co2_emmission            \\\n",
       "                                mean       sum count          mean       sum   \n",
       "food_category                                                                  \n",
       "Beef                       12.123385   1576.04   130    374.102000  48633.26   \n",
       "Eggs                        8.163769   1061.29   130      7.499615    974.95   \n",
       "Fish                       17.287077   2247.32   130     27.601692   3588.22   \n",
       "Lamb & Goat                 2.600154    338.02   130     91.056769  11837.38   \n",
       "Milk - inc. cheese        125.774692  16350.71   130    179.153846  23290.00   \n",
       "Nuts inc. Peanut Butter     4.137231    537.84   130      7.323000    951.99   \n",
       "Pork                       16.123692   2096.08   130     57.070077   7419.11   \n",
       "Poultry                    21.219231   2758.50   130     22.793538   2963.16   \n",
       "Rice                       29.375154   3818.77   130     37.591615   4886.91   \n",
       "Soybeans                    0.860538    111.87   130      0.387308     50.35   \n",
       "Wheat and Wheat Products   71.549538   9301.44   130     13.644462   1773.78   \n",
       "\n",
       "                                \n",
       "                         count  \n",
       "food_category                   \n",
       "Beef                       130  \n",
       "Eggs                       130  \n",
       "Fish                       130  \n",
       "Lamb & Goat                130  \n",
       "Milk - inc. cheese         130  \n",
       "Nuts inc. Peanut Butter    130  \n",
       "Pork                       130  \n",
       "Poultry                    130  \n",
       "Rice                       130  \n",
       "Soybeans                   130  \n",
       "Wheat and Wheat Products   130  "
      ]
     },
     "execution_count": 48,
     "metadata": {},
     "output_type": "execute_result"
    }
   ],
   "source": [
    "dfg.aggregate(['mean', 'sum', 'count'])"
   ]
  },
  {
   "cell_type": "markdown",
   "metadata": {
    "pycharm": {
     "name": "#%% md\n"
    }
   },
   "source": [
    "### Combining Datasets\n",
    "\n",
    "Some of the most exciting analyses come from combining different data sources. These operations can involve a straightforward concatenation of two datasets to more complicated database-style joins and merges that correctly handle any overlaps between the datasets.\n",
    "\n",
    "#### Simple Concatenation with pd.concat\n",
    "\n",
    "Pandas has a function, `pd.concat()`, which has a similar syntax to `np.concatenate`:"
   ]
  },
  {
   "cell_type": "code",
   "execution_count": 49,
   "metadata": {
    "pycharm": {
     "name": "#%%\n"
    }
   },
   "outputs": [
    {
     "data": {
      "text/plain": [
       "0    A\n",
       "1    B\n",
       "2    C\n",
       "0    D\n",
       "1    E\n",
       "2    F\n",
       "dtype: object"
      ]
     },
     "execution_count": 49,
     "metadata": {},
     "output_type": "execute_result"
    }
   ],
   "source": [
    "ser1 = pd.Series(['A', 'B', 'C'])\n",
    "ser2 = pd.Series(['D', 'E', 'F'])\n",
    "pd.concat([ser1, ser2])"
   ]
  },
  {
   "cell_type": "markdown",
   "metadata": {
    "pycharm": {
     "name": "#%% md\n"
    }
   },
   "source": [
    "By default, the concatenation takes place row-wise within the DataFrame (i.e., axis=0):"
   ]
  },
  {
   "cell_type": "code",
   "execution_count": 50,
   "metadata": {
    "pycharm": {
     "name": "#%%\n"
    }
   },
   "outputs": [
    {
     "data": {
      "text/html": [
       "<div>\n",
       "<style scoped>\n",
       "    .dataframe tbody tr th:only-of-type {\n",
       "        vertical-align: middle;\n",
       "    }\n",
       "\n",
       "    .dataframe tbody tr th {\n",
       "        vertical-align: top;\n",
       "    }\n",
       "\n",
       "    .dataframe thead th {\n",
       "        text-align: right;\n",
       "    }\n",
       "</style>\n",
       "<table border=\"1\" class=\"dataframe\">\n",
       "  <thead>\n",
       "    <tr style=\"text-align: right;\">\n",
       "      <th></th>\n",
       "      <th>0</th>\n",
       "      <th>1</th>\n",
       "      <th>2</th>\n",
       "    </tr>\n",
       "  </thead>\n",
       "  <tbody>\n",
       "    <tr>\n",
       "      <th>0</th>\n",
       "      <td>1</td>\n",
       "      <td>2</td>\n",
       "      <td>3</td>\n",
       "    </tr>\n",
       "    <tr>\n",
       "      <th>1</th>\n",
       "      <td>4</td>\n",
       "      <td>5</td>\n",
       "      <td>6</td>\n",
       "    </tr>\n",
       "    <tr>\n",
       "      <th>2</th>\n",
       "      <td>7</td>\n",
       "      <td>8</td>\n",
       "      <td>9</td>\n",
       "    </tr>\n",
       "    <tr>\n",
       "      <th>0</th>\n",
       "      <td>1</td>\n",
       "      <td>2</td>\n",
       "      <td>3</td>\n",
       "    </tr>\n",
       "    <tr>\n",
       "      <th>1</th>\n",
       "      <td>4</td>\n",
       "      <td>5</td>\n",
       "      <td>6</td>\n",
       "    </tr>\n",
       "    <tr>\n",
       "      <th>2</th>\n",
       "      <td>7</td>\n",
       "      <td>8</td>\n",
       "      <td>9</td>\n",
       "    </tr>\n",
       "  </tbody>\n",
       "</table>\n",
       "</div>"
      ],
      "text/plain": [
       "   0  1  2\n",
       "0  1  2  3\n",
       "1  4  5  6\n",
       "2  7  8  9\n",
       "0  1  2  3\n",
       "1  4  5  6\n",
       "2  7  8  9"
      ]
     },
     "execution_count": 50,
     "metadata": {},
     "output_type": "execute_result"
    }
   ],
   "source": [
    "df1 = pd.DataFrame([[1, 2, 3], [4, 5, 6], [7, 8, 9]])\n",
    "df2 = pd.DataFrame([[1, 2, 3], [4, 5, 6], [7, 8, 9]])\n",
    "pd.concat([df1, df2])"
   ]
  },
  {
   "cell_type": "markdown",
   "metadata": {
    "pycharm": {
     "name": "#%% md\n"
    }
   },
   "source": [
    "You can also concatenate columns:"
   ]
  },
  {
   "cell_type": "code",
   "execution_count": 51,
   "metadata": {
    "pycharm": {
     "name": "#%%\n"
    }
   },
   "outputs": [
    {
     "data": {
      "text/html": [
       "<div>\n",
       "<style scoped>\n",
       "    .dataframe tbody tr th:only-of-type {\n",
       "        vertical-align: middle;\n",
       "    }\n",
       "\n",
       "    .dataframe tbody tr th {\n",
       "        vertical-align: top;\n",
       "    }\n",
       "\n",
       "    .dataframe thead th {\n",
       "        text-align: right;\n",
       "    }\n",
       "</style>\n",
       "<table border=\"1\" class=\"dataframe\">\n",
       "  <thead>\n",
       "    <tr style=\"text-align: right;\">\n",
       "      <th></th>\n",
       "      <th>0</th>\n",
       "      <th>1</th>\n",
       "      <th>2</th>\n",
       "      <th>0</th>\n",
       "      <th>1</th>\n",
       "      <th>2</th>\n",
       "    </tr>\n",
       "  </thead>\n",
       "  <tbody>\n",
       "    <tr>\n",
       "      <th>0</th>\n",
       "      <td>1</td>\n",
       "      <td>2</td>\n",
       "      <td>3</td>\n",
       "      <td>1</td>\n",
       "      <td>2</td>\n",
       "      <td>3</td>\n",
       "    </tr>\n",
       "    <tr>\n",
       "      <th>1</th>\n",
       "      <td>4</td>\n",
       "      <td>5</td>\n",
       "      <td>6</td>\n",
       "      <td>4</td>\n",
       "      <td>5</td>\n",
       "      <td>6</td>\n",
       "    </tr>\n",
       "    <tr>\n",
       "      <th>2</th>\n",
       "      <td>7</td>\n",
       "      <td>8</td>\n",
       "      <td>9</td>\n",
       "      <td>7</td>\n",
       "      <td>8</td>\n",
       "      <td>9</td>\n",
       "    </tr>\n",
       "  </tbody>\n",
       "</table>\n",
       "</div>"
      ],
      "text/plain": [
       "   0  1  2  0  1  2\n",
       "0  1  2  3  1  2  3\n",
       "1  4  5  6  4  5  6\n",
       "2  7  8  9  7  8  9"
      ]
     },
     "execution_count": 51,
     "metadata": {},
     "output_type": "execute_result"
    }
   ],
   "source": [
    "pd.concat([df1, df2], axis=1)"
   ]
  },
  {
   "cell_type": "markdown",
   "metadata": {
    "pycharm": {
     "name": "#%% md\n"
    }
   },
   "source": [
    "#### Merge and Join\n",
    "\n",
    "One essential feature offered by Pandas is its high-performance, in-memory join and merge operations. If you have ever worked with databases, you should be familiar with this type of data interaction. The main interface for this is the `pd.merge` function:"
   ]
  },
  {
   "cell_type": "code",
   "execution_count": 52,
   "metadata": {
    "pycharm": {
     "name": "#%%\n"
    }
   },
   "outputs": [
    {
     "data": {
      "text/html": [
       "<div>\n",
       "<style scoped>\n",
       "    .dataframe tbody tr th:only-of-type {\n",
       "        vertical-align: middle;\n",
       "    }\n",
       "\n",
       "    .dataframe tbody tr th {\n",
       "        vertical-align: top;\n",
       "    }\n",
       "\n",
       "    .dataframe thead th {\n",
       "        text-align: right;\n",
       "    }\n",
       "</style>\n",
       "<table border=\"1\" class=\"dataframe\">\n",
       "  <thead>\n",
       "    <tr style=\"text-align: right;\">\n",
       "      <th></th>\n",
       "      <th>employee</th>\n",
       "      <th>group</th>\n",
       "    </tr>\n",
       "  </thead>\n",
       "  <tbody>\n",
       "    <tr>\n",
       "      <th>0</th>\n",
       "      <td>Bob</td>\n",
       "      <td>Accounting</td>\n",
       "    </tr>\n",
       "    <tr>\n",
       "      <th>1</th>\n",
       "      <td>Jake</td>\n",
       "      <td>Engineering</td>\n",
       "    </tr>\n",
       "    <tr>\n",
       "      <th>2</th>\n",
       "      <td>Lisa</td>\n",
       "      <td>Engineering</td>\n",
       "    </tr>\n",
       "    <tr>\n",
       "      <th>3</th>\n",
       "      <td>Sue</td>\n",
       "      <td>HR</td>\n",
       "    </tr>\n",
       "  </tbody>\n",
       "</table>\n",
       "</div>"
      ],
      "text/plain": [
       "  employee        group\n",
       "0      Bob   Accounting\n",
       "1     Jake  Engineering\n",
       "2     Lisa  Engineering\n",
       "3      Sue           HR"
      ]
     },
     "execution_count": 52,
     "metadata": {},
     "output_type": "execute_result"
    }
   ],
   "source": [
    "df1 = pd.DataFrame(\n",
    "    {\n",
    "        'employee': ['Bob', 'Jake', 'Lisa', 'Sue'],\n",
    "        'group': ['Accounting', 'Engineering', 'Engineering', 'HR']\n",
    "    }\n",
    ")\n",
    "df1"
   ]
  },
  {
   "cell_type": "code",
   "execution_count": 53,
   "metadata": {
    "pycharm": {
     "name": "#%%\n"
    }
   },
   "outputs": [
    {
     "data": {
      "text/html": [
       "<div>\n",
       "<style scoped>\n",
       "    .dataframe tbody tr th:only-of-type {\n",
       "        vertical-align: middle;\n",
       "    }\n",
       "\n",
       "    .dataframe tbody tr th {\n",
       "        vertical-align: top;\n",
       "    }\n",
       "\n",
       "    .dataframe thead th {\n",
       "        text-align: right;\n",
       "    }\n",
       "</style>\n",
       "<table border=\"1\" class=\"dataframe\">\n",
       "  <thead>\n",
       "    <tr style=\"text-align: right;\">\n",
       "      <th></th>\n",
       "      <th>employee</th>\n",
       "      <th>hire_date</th>\n",
       "    </tr>\n",
       "  </thead>\n",
       "  <tbody>\n",
       "    <tr>\n",
       "      <th>0</th>\n",
       "      <td>Lisa</td>\n",
       "      <td>2004</td>\n",
       "    </tr>\n",
       "    <tr>\n",
       "      <th>1</th>\n",
       "      <td>Bob</td>\n",
       "      <td>2008</td>\n",
       "    </tr>\n",
       "    <tr>\n",
       "      <th>2</th>\n",
       "      <td>Jake</td>\n",
       "      <td>2012</td>\n",
       "    </tr>\n",
       "    <tr>\n",
       "      <th>3</th>\n",
       "      <td>Sue</td>\n",
       "      <td>2014</td>\n",
       "    </tr>\n",
       "  </tbody>\n",
       "</table>\n",
       "</div>"
      ],
      "text/plain": [
       "  employee  hire_date\n",
       "0     Lisa       2004\n",
       "1      Bob       2008\n",
       "2     Jake       2012\n",
       "3      Sue       2014"
      ]
     },
     "execution_count": 53,
     "metadata": {},
     "output_type": "execute_result"
    }
   ],
   "source": [
    "df2 = pd.DataFrame(\n",
    "    {\n",
    "        'employee': ['Lisa', 'Bob', 'Jake', 'Sue'],\n",
    "        'hire_date': [2004, 2008, 2012, 2014]\n",
    "    }\n",
    ")\n",
    "df2"
   ]
  },
  {
   "cell_type": "markdown",
   "metadata": {
    "pycharm": {
     "name": "#%% md\n"
    }
   },
   "source": [
    "##### One-to-one joins\n",
    "\n",
    "Perhaps the simplest type of merge expression is the one-to-one join, which is in many ways very similar to the column-wise concatenation:"
   ]
  },
  {
   "cell_type": "code",
   "execution_count": 54,
   "metadata": {
    "pycharm": {
     "name": "#%%\n"
    }
   },
   "outputs": [
    {
     "data": {
      "text/html": [
       "<div>\n",
       "<style scoped>\n",
       "    .dataframe tbody tr th:only-of-type {\n",
       "        vertical-align: middle;\n",
       "    }\n",
       "\n",
       "    .dataframe tbody tr th {\n",
       "        vertical-align: top;\n",
       "    }\n",
       "\n",
       "    .dataframe thead th {\n",
       "        text-align: right;\n",
       "    }\n",
       "</style>\n",
       "<table border=\"1\" class=\"dataframe\">\n",
       "  <thead>\n",
       "    <tr style=\"text-align: right;\">\n",
       "      <th></th>\n",
       "      <th>employee</th>\n",
       "      <th>group</th>\n",
       "      <th>hire_date</th>\n",
       "    </tr>\n",
       "  </thead>\n",
       "  <tbody>\n",
       "    <tr>\n",
       "      <th>0</th>\n",
       "      <td>Bob</td>\n",
       "      <td>Accounting</td>\n",
       "      <td>2008</td>\n",
       "    </tr>\n",
       "    <tr>\n",
       "      <th>1</th>\n",
       "      <td>Jake</td>\n",
       "      <td>Engineering</td>\n",
       "      <td>2012</td>\n",
       "    </tr>\n",
       "    <tr>\n",
       "      <th>2</th>\n",
       "      <td>Lisa</td>\n",
       "      <td>Engineering</td>\n",
       "      <td>2004</td>\n",
       "    </tr>\n",
       "    <tr>\n",
       "      <th>3</th>\n",
       "      <td>Sue</td>\n",
       "      <td>HR</td>\n",
       "      <td>2014</td>\n",
       "    </tr>\n",
       "  </tbody>\n",
       "</table>\n",
       "</div>"
      ],
      "text/plain": [
       "  employee        group  hire_date\n",
       "0      Bob   Accounting       2008\n",
       "1     Jake  Engineering       2012\n",
       "2     Lisa  Engineering       2004\n",
       "3      Sue           HR       2014"
      ]
     },
     "execution_count": 54,
     "metadata": {},
     "output_type": "execute_result"
    }
   ],
   "source": [
    "df3 = pd.merge(df1, df2)\n",
    "df3"
   ]
  },
  {
   "cell_type": "markdown",
   "metadata": {
    "pycharm": {
     "name": "#%% md\n"
    }
   },
   "source": [
    "##### Many-to-one joins\n",
    "\n",
    "Many-to-one joins are joins in which one of the two key columns contains duplicate entries. For the many-to-one case, the resulting DataFrame will preserve those duplicate entries as appropriate:"
   ]
  },
  {
   "cell_type": "code",
   "execution_count": 55,
   "metadata": {
    "pycharm": {
     "name": "#%%\n"
    }
   },
   "outputs": [
    {
     "data": {
      "text/html": [
       "<div>\n",
       "<style scoped>\n",
       "    .dataframe tbody tr th:only-of-type {\n",
       "        vertical-align: middle;\n",
       "    }\n",
       "\n",
       "    .dataframe tbody tr th {\n",
       "        vertical-align: top;\n",
       "    }\n",
       "\n",
       "    .dataframe thead th {\n",
       "        text-align: right;\n",
       "    }\n",
       "</style>\n",
       "<table border=\"1\" class=\"dataframe\">\n",
       "  <thead>\n",
       "    <tr style=\"text-align: right;\">\n",
       "      <th></th>\n",
       "      <th>group</th>\n",
       "      <th>supervisor</th>\n",
       "    </tr>\n",
       "  </thead>\n",
       "  <tbody>\n",
       "    <tr>\n",
       "      <th>0</th>\n",
       "      <td>Accounting</td>\n",
       "      <td>Carly</td>\n",
       "    </tr>\n",
       "    <tr>\n",
       "      <th>1</th>\n",
       "      <td>Engineering</td>\n",
       "      <td>Guido</td>\n",
       "    </tr>\n",
       "    <tr>\n",
       "      <th>2</th>\n",
       "      <td>HR</td>\n",
       "      <td>Steve</td>\n",
       "    </tr>\n",
       "  </tbody>\n",
       "</table>\n",
       "</div>"
      ],
      "text/plain": [
       "         group supervisor\n",
       "0   Accounting      Carly\n",
       "1  Engineering      Guido\n",
       "2           HR      Steve"
      ]
     },
     "execution_count": 55,
     "metadata": {},
     "output_type": "execute_result"
    }
   ],
   "source": [
    "df4 = pd.DataFrame(\n",
    "    {\n",
    "        'group': ['Accounting', 'Engineering', 'HR'],\n",
    "        'supervisor': ['Carly', 'Guido', 'Steve']\n",
    "    }\n",
    ")\n",
    "df4"
   ]
  },
  {
   "cell_type": "code",
   "execution_count": 56,
   "metadata": {
    "pycharm": {
     "name": "#%%\n"
    }
   },
   "outputs": [
    {
     "data": {
      "text/html": [
       "<div>\n",
       "<style scoped>\n",
       "    .dataframe tbody tr th:only-of-type {\n",
       "        vertical-align: middle;\n",
       "    }\n",
       "\n",
       "    .dataframe tbody tr th {\n",
       "        vertical-align: top;\n",
       "    }\n",
       "\n",
       "    .dataframe thead th {\n",
       "        text-align: right;\n",
       "    }\n",
       "</style>\n",
       "<table border=\"1\" class=\"dataframe\">\n",
       "  <thead>\n",
       "    <tr style=\"text-align: right;\">\n",
       "      <th></th>\n",
       "      <th>employee</th>\n",
       "      <th>group</th>\n",
       "      <th>hire_date</th>\n",
       "      <th>supervisor</th>\n",
       "    </tr>\n",
       "  </thead>\n",
       "  <tbody>\n",
       "    <tr>\n",
       "      <th>0</th>\n",
       "      <td>Bob</td>\n",
       "      <td>Accounting</td>\n",
       "      <td>2008</td>\n",
       "      <td>Carly</td>\n",
       "    </tr>\n",
       "    <tr>\n",
       "      <th>1</th>\n",
       "      <td>Jake</td>\n",
       "      <td>Engineering</td>\n",
       "      <td>2012</td>\n",
       "      <td>Guido</td>\n",
       "    </tr>\n",
       "    <tr>\n",
       "      <th>2</th>\n",
       "      <td>Lisa</td>\n",
       "      <td>Engineering</td>\n",
       "      <td>2004</td>\n",
       "      <td>Guido</td>\n",
       "    </tr>\n",
       "    <tr>\n",
       "      <th>3</th>\n",
       "      <td>Sue</td>\n",
       "      <td>HR</td>\n",
       "      <td>2014</td>\n",
       "      <td>Steve</td>\n",
       "    </tr>\n",
       "  </tbody>\n",
       "</table>\n",
       "</div>"
      ],
      "text/plain": [
       "  employee        group  hire_date supervisor\n",
       "0      Bob   Accounting       2008      Carly\n",
       "1     Jake  Engineering       2012      Guido\n",
       "2     Lisa  Engineering       2004      Guido\n",
       "3      Sue           HR       2014      Steve"
      ]
     },
     "execution_count": 56,
     "metadata": {},
     "output_type": "execute_result"
    }
   ],
   "source": [
    "pd.merge(df3, df4)"
   ]
  },
  {
   "cell_type": "markdown",
   "metadata": {
    "pycharm": {
     "name": "#%% md\n"
    }
   },
   "source": [
    "##### Many-to-many joins\n",
    "\n",
    "If the key column in both the left and right array contains duplicates, then the result is a many-to-many merge."
   ]
  },
  {
   "cell_type": "code",
   "execution_count": 57,
   "metadata": {
    "pycharm": {
     "name": "#%%\n"
    }
   },
   "outputs": [
    {
     "data": {
      "text/html": [
       "<div>\n",
       "<style scoped>\n",
       "    .dataframe tbody tr th:only-of-type {\n",
       "        vertical-align: middle;\n",
       "    }\n",
       "\n",
       "    .dataframe tbody tr th {\n",
       "        vertical-align: top;\n",
       "    }\n",
       "\n",
       "    .dataframe thead th {\n",
       "        text-align: right;\n",
       "    }\n",
       "</style>\n",
       "<table border=\"1\" class=\"dataframe\">\n",
       "  <thead>\n",
       "    <tr style=\"text-align: right;\">\n",
       "      <th></th>\n",
       "      <th>group</th>\n",
       "      <th>skills</th>\n",
       "    </tr>\n",
       "  </thead>\n",
       "  <tbody>\n",
       "    <tr>\n",
       "      <th>0</th>\n",
       "      <td>Accounting</td>\n",
       "      <td>math</td>\n",
       "    </tr>\n",
       "    <tr>\n",
       "      <th>1</th>\n",
       "      <td>Accounting</td>\n",
       "      <td>spreadsheets</td>\n",
       "    </tr>\n",
       "    <tr>\n",
       "      <th>2</th>\n",
       "      <td>Engineering</td>\n",
       "      <td>coding</td>\n",
       "    </tr>\n",
       "    <tr>\n",
       "      <th>3</th>\n",
       "      <td>Engineering</td>\n",
       "      <td>linux</td>\n",
       "    </tr>\n",
       "    <tr>\n",
       "      <th>4</th>\n",
       "      <td>HR</td>\n",
       "      <td>spreadsheets</td>\n",
       "    </tr>\n",
       "    <tr>\n",
       "      <th>5</th>\n",
       "      <td>HR</td>\n",
       "      <td>organization</td>\n",
       "    </tr>\n",
       "  </tbody>\n",
       "</table>\n",
       "</div>"
      ],
      "text/plain": [
       "         group        skills\n",
       "0   Accounting          math\n",
       "1   Accounting  spreadsheets\n",
       "2  Engineering        coding\n",
       "3  Engineering         linux\n",
       "4           HR  spreadsheets\n",
       "5           HR  organization"
      ]
     },
     "execution_count": 57,
     "metadata": {},
     "output_type": "execute_result"
    }
   ],
   "source": [
    "df5 = pd.DataFrame(\n",
    "    {\n",
    "        'group': ['Accounting', 'Accounting', 'Engineering', 'Engineering', 'HR', 'HR'],\n",
    "        'skills': ['math', 'spreadsheets', 'coding', 'linux', 'spreadsheets', 'organization']\n",
    "    }\n",
    ")\n",
    "df5"
   ]
  },
  {
   "cell_type": "code",
   "execution_count": 58,
   "metadata": {
    "pycharm": {
     "name": "#%%\n"
    }
   },
   "outputs": [
    {
     "data": {
      "text/html": [
       "<div>\n",
       "<style scoped>\n",
       "    .dataframe tbody tr th:only-of-type {\n",
       "        vertical-align: middle;\n",
       "    }\n",
       "\n",
       "    .dataframe tbody tr th {\n",
       "        vertical-align: top;\n",
       "    }\n",
       "\n",
       "    .dataframe thead th {\n",
       "        text-align: right;\n",
       "    }\n",
       "</style>\n",
       "<table border=\"1\" class=\"dataframe\">\n",
       "  <thead>\n",
       "    <tr style=\"text-align: right;\">\n",
       "      <th></th>\n",
       "      <th>employee</th>\n",
       "      <th>group</th>\n",
       "      <th>skills</th>\n",
       "    </tr>\n",
       "  </thead>\n",
       "  <tbody>\n",
       "    <tr>\n",
       "      <th>0</th>\n",
       "      <td>Bob</td>\n",
       "      <td>Accounting</td>\n",
       "      <td>math</td>\n",
       "    </tr>\n",
       "    <tr>\n",
       "      <th>1</th>\n",
       "      <td>Bob</td>\n",
       "      <td>Accounting</td>\n",
       "      <td>spreadsheets</td>\n",
       "    </tr>\n",
       "    <tr>\n",
       "      <th>2</th>\n",
       "      <td>Jake</td>\n",
       "      <td>Engineering</td>\n",
       "      <td>coding</td>\n",
       "    </tr>\n",
       "    <tr>\n",
       "      <th>3</th>\n",
       "      <td>Jake</td>\n",
       "      <td>Engineering</td>\n",
       "      <td>linux</td>\n",
       "    </tr>\n",
       "    <tr>\n",
       "      <th>4</th>\n",
       "      <td>Lisa</td>\n",
       "      <td>Engineering</td>\n",
       "      <td>coding</td>\n",
       "    </tr>\n",
       "    <tr>\n",
       "      <th>5</th>\n",
       "      <td>Lisa</td>\n",
       "      <td>Engineering</td>\n",
       "      <td>linux</td>\n",
       "    </tr>\n",
       "    <tr>\n",
       "      <th>6</th>\n",
       "      <td>Sue</td>\n",
       "      <td>HR</td>\n",
       "      <td>spreadsheets</td>\n",
       "    </tr>\n",
       "    <tr>\n",
       "      <th>7</th>\n",
       "      <td>Sue</td>\n",
       "      <td>HR</td>\n",
       "      <td>organization</td>\n",
       "    </tr>\n",
       "  </tbody>\n",
       "</table>\n",
       "</div>"
      ],
      "text/plain": [
       "  employee        group        skills\n",
       "0      Bob   Accounting          math\n",
       "1      Bob   Accounting  spreadsheets\n",
       "2     Jake  Engineering        coding\n",
       "3     Jake  Engineering         linux\n",
       "4     Lisa  Engineering        coding\n",
       "5     Lisa  Engineering         linux\n",
       "6      Sue           HR  spreadsheets\n",
       "7      Sue           HR  organization"
      ]
     },
     "execution_count": 58,
     "metadata": {},
     "output_type": "execute_result"
    }
   ],
   "source": [
    "pd.merge(df1, df5)"
   ]
  },
  {
   "cell_type": "markdown",
   "metadata": {
    "pycharm": {
     "name": "#%% md\n"
    }
   },
   "source": [
    "## Exercises\n",
    "\n",
    "In this practice exercise, we'll investigate different foods' carbon footprints. We'll leverage a dataset compiled by [Kasia Kulma](https://r-tastic.co.uk/post/from-messy-to-tidy/) and contributed to [R's Tidy Tuesday project](https://github.com/rfordatascience/tidytuesday).\n",
    "\n",
    "Import the dataset as a data frame named df from this URL:"
   ]
  },
  {
   "cell_type": "code",
   "execution_count": 59,
   "metadata": {
    "pycharm": {
     "name": "#%%\n"
    }
   },
   "outputs": [
    {
     "data": {
      "text/html": [
       "<div>\n",
       "<style scoped>\n",
       "    .dataframe tbody tr th:only-of-type {\n",
       "        vertical-align: middle;\n",
       "    }\n",
       "\n",
       "    .dataframe tbody tr th {\n",
       "        vertical-align: top;\n",
       "    }\n",
       "\n",
       "    .dataframe thead th {\n",
       "        text-align: right;\n",
       "    }\n",
       "</style>\n",
       "<table border=\"1\" class=\"dataframe\">\n",
       "  <thead>\n",
       "    <tr style=\"text-align: right;\">\n",
       "      <th></th>\n",
       "      <th>country</th>\n",
       "      <th>food_category</th>\n",
       "      <th>consumption</th>\n",
       "      <th>co2_emmission</th>\n",
       "    </tr>\n",
       "  </thead>\n",
       "  <tbody>\n",
       "    <tr>\n",
       "      <th>0</th>\n",
       "      <td>Argentina</td>\n",
       "      <td>Pork</td>\n",
       "      <td>10.51</td>\n",
       "      <td>37.20</td>\n",
       "    </tr>\n",
       "    <tr>\n",
       "      <th>1</th>\n",
       "      <td>Argentina</td>\n",
       "      <td>Poultry</td>\n",
       "      <td>38.66</td>\n",
       "      <td>41.53</td>\n",
       "    </tr>\n",
       "    <tr>\n",
       "      <th>2</th>\n",
       "      <td>Argentina</td>\n",
       "      <td>Beef</td>\n",
       "      <td>55.48</td>\n",
       "      <td>1712.00</td>\n",
       "    </tr>\n",
       "    <tr>\n",
       "      <th>3</th>\n",
       "      <td>Argentina</td>\n",
       "      <td>Lamb &amp; Goat</td>\n",
       "      <td>1.56</td>\n",
       "      <td>54.63</td>\n",
       "    </tr>\n",
       "    <tr>\n",
       "      <th>4</th>\n",
       "      <td>Argentina</td>\n",
       "      <td>Fish</td>\n",
       "      <td>4.36</td>\n",
       "      <td>6.96</td>\n",
       "    </tr>\n",
       "  </tbody>\n",
       "</table>\n",
       "</div>"
      ],
      "text/plain": [
       "     country food_category  consumption  co2_emmission\n",
       "0  Argentina          Pork        10.51          37.20\n",
       "1  Argentina       Poultry        38.66          41.53\n",
       "2  Argentina          Beef        55.48        1712.00\n",
       "3  Argentina   Lamb & Goat         1.56          54.63\n",
       "4  Argentina          Fish         4.36           6.96"
      ]
     },
     "execution_count": 59,
     "metadata": {},
     "output_type": "execute_result"
    }
   ],
   "source": [
    "url = \"https://raw.githubusercontent.com/rfordatascience/tidytuesday/master/data/2020/2020-02-18/food_consumption.csv\"\n",
    "df = pd.read_csv(url)\n",
    "df.head()"
   ]
  },
  {
   "cell_type": "markdown",
   "metadata": {
    "pycharm": {
     "name": "#%% md\n"
    }
   },
   "source": [
    "#### What is the maximum co2_emmission in the dataset and which food type and country does it belong to?"
   ]
  },
  {
   "cell_type": "code",
   "execution_count": 60,
   "metadata": {
    "pycharm": {
     "name": "#%%\n"
    }
   },
   "outputs": [],
   "source": [
    "# TODO: your answer here"
   ]
  },
  {
   "cell_type": "markdown",
   "metadata": {
    "pycharm": {
     "name": "#%% md\n"
    }
   },
   "source": [
    "#### How many countries produce more than 1000 Kg CO2/person/year for at least one food type?"
   ]
  },
  {
   "cell_type": "code",
   "execution_count": 61,
   "metadata": {
    "pycharm": {
     "name": "#%%\n"
    }
   },
   "outputs": [],
   "source": [
    "# TODO: your answer here"
   ]
  },
  {
   "cell_type": "markdown",
   "metadata": {
    "pycharm": {
     "name": "#%% md\n"
    }
   },
   "source": [
    "#### What is the total emissions of all other (non-meat) products in the dataset combined?"
   ]
  },
  {
   "cell_type": "code",
   "execution_count": 62,
   "metadata": {
    "pycharm": {
     "name": "#%%\n"
    }
   },
   "outputs": [],
   "source": [
    "# TODO: your answer here"
   ]
  },
  {
   "cell_type": "markdown",
   "metadata": {
    "pycharm": {
     "name": "#%% md\n"
    }
   },
   "source": [
    "## Resources\n",
    "\n",
    "```{bibliography}\n",
    ":filter: docname in docnames\n",
    "```"
   ]
  }
 ],
 "metadata": {
  "kernelspec": {
   "display_name": "Python 3 (ipykernel)",
   "language": "python",
   "name": "python3"
  },
  "language_info": {
   "codemirror_mode": {
    "name": "ipython",
    "version": 3
   },
   "file_extension": ".py",
   "mimetype": "text/x-python",
   "name": "python",
   "nbconvert_exporter": "python",
   "pygments_lexer": "ipython3",
   "version": "3.9.7"
  }
 },
 "nbformat": 4,
 "nbformat_minor": 1
}
