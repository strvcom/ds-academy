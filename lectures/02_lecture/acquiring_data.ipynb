{
 "cells": [
  {
   "cell_type": "markdown",
   "source": [
    "# Acquiring Data\n",
    "\n",
    "Most analyses start by importing data into your environment. The data are primarily available from the following data sources:\n",
    "\n",
    "- Local files (you should already have an idea)\n",
    "- Databases\n",
    "- APIs\n",
    "\n",
    "> ✏️ The example is inspired by {cite}`reid_2021`.\n",
    "\n",
    "Luckily for us, Python is very capable when accessing all of those data sources because there are tons of open-source libraries. Once we have access, we can easily import data to NumPy, pandas, or other libraries to exploit what we have learned regarding data wrangling. We will show you some basic examples to give you an idea.\n",
    "\n",
    "Let's start by importing pandas:"
   ],
   "metadata": {
    "collapsed": false
   }
  },
  {
   "cell_type": "code",
   "execution_count": 1,
   "outputs": [],
   "source": [
    "import pandas as pd"
   ],
   "metadata": {
    "collapsed": false
   }
  },
  {
   "cell_type": "markdown",
   "source": [
    "We have been primarily working with local files (CSV) so far, but a lot of business data is probably stored in a database. You usually need to know some basics of SQL (which is out of the scope of this course) to access the data.\n",
    "\n",
    "It is pretty easy to get data from a database to pandas. Let's use, for example, a built-in database SQLite with the [Chinook Dataset](https://github.com/lerocha/chinook-database):"
   ],
   "metadata": {
    "collapsed": false
   }
  },
  {
   "cell_type": "code",
   "execution_count": 2,
   "outputs": [
    {
     "name": "stdout",
     "output_type": "stream",
     "text": [
      "--2022-09-26 16:12:43--  https://github.com/lerocha/chinook-database/raw/master/ChinookDatabase/DataSources/Chinook_Sqlite.sqlite\r\n",
      "Resolving github.com (github.com)... 140.82.121.4\r\n",
      "Connecting to github.com (github.com)|140.82.121.4|:443... connected.\r\n",
      "HTTP request sent, awaiting response... 302 Found\r\n",
      "Location: https://raw.githubusercontent.com/lerocha/chinook-database/master/ChinookDatabase/DataSources/Chinook_Sqlite.sqlite [following]\r\n",
      "--2022-09-26 16:12:43--  https://raw.githubusercontent.com/lerocha/chinook-database/master/ChinookDatabase/DataSources/Chinook_Sqlite.sqlite\r\n",
      "Resolving raw.githubusercontent.com (raw.githubusercontent.com)... 185.199.109.133, 185.199.110.133, 185.199.111.133, ...\r\n",
      "Connecting to raw.githubusercontent.com (raw.githubusercontent.com)|185.199.109.133|:443... connected.\r\n",
      "HTTP request sent, awaiting response... 200 OK\r\n",
      "Length: 1067008 (1.0M) [application/octet-stream]\r\n",
      "Saving to: ‘../../data/Chinook_Sqlite.sqlite’\r\n",
      "\r\n",
      "../../data/Chinook_ 100%[===================>]   1.02M  --.-KB/s    in 0.07s   \r\n",
      "\r\n",
      "2022-09-26 16:12:43 (14.4 MB/s) - ‘../../data/Chinook_Sqlite.sqlite’ saved [1067008/1067008]\r\n",
      "\r\n"
     ]
    }
   ],
   "source": [
    "# let's download data locally\n",
    "!wget https://github.com/lerocha/chinook-database/raw/master/ChinookDatabase/DataSources/Chinook_Sqlite.sqlite -O ../../data/Chinook_Sqlite.sqlite"
   ],
   "metadata": {
    "collapsed": false
   }
  },
  {
   "cell_type": "code",
   "execution_count": 3,
   "outputs": [
    {
     "data": {
      "text/plain": "   InvoiceId  CustomerId          InvoiceDate           BillingAddress  \\\n0          1           2  2009-01-01 00:00:00  Theodor-Heuss-Straße 34   \n1          2           4  2009-01-02 00:00:00         Ullevålsveien 14   \n2          3           8  2009-01-03 00:00:00          Grétrystraat 63   \n3          4          14  2009-01-06 00:00:00           8210 111 ST NW   \n4          5          23  2009-01-11 00:00:00          69 Salem Street   \n\n  BillingCity BillingState BillingCountry BillingPostalCode  Total  \n0   Stuttgart         None        Germany             70174   1.98  \n1        Oslo         None         Norway              0171   3.96  \n2    Brussels         None        Belgium              1000   5.94  \n3    Edmonton           AB         Canada           T6G 2C7   8.91  \n4      Boston           MA            USA              2113  13.86  ",
      "text/html": "<div>\n<style scoped>\n    .dataframe tbody tr th:only-of-type {\n        vertical-align: middle;\n    }\n\n    .dataframe tbody tr th {\n        vertical-align: top;\n    }\n\n    .dataframe thead th {\n        text-align: right;\n    }\n</style>\n<table border=\"1\" class=\"dataframe\">\n  <thead>\n    <tr style=\"text-align: right;\">\n      <th></th>\n      <th>InvoiceId</th>\n      <th>CustomerId</th>\n      <th>InvoiceDate</th>\n      <th>BillingAddress</th>\n      <th>BillingCity</th>\n      <th>BillingState</th>\n      <th>BillingCountry</th>\n      <th>BillingPostalCode</th>\n      <th>Total</th>\n    </tr>\n  </thead>\n  <tbody>\n    <tr>\n      <th>0</th>\n      <td>1</td>\n      <td>2</td>\n      <td>2009-01-01 00:00:00</td>\n      <td>Theodor-Heuss-Straße 34</td>\n      <td>Stuttgart</td>\n      <td>None</td>\n      <td>Germany</td>\n      <td>70174</td>\n      <td>1.98</td>\n    </tr>\n    <tr>\n      <th>1</th>\n      <td>2</td>\n      <td>4</td>\n      <td>2009-01-02 00:00:00</td>\n      <td>Ullevålsveien 14</td>\n      <td>Oslo</td>\n      <td>None</td>\n      <td>Norway</td>\n      <td>0171</td>\n      <td>3.96</td>\n    </tr>\n    <tr>\n      <th>2</th>\n      <td>3</td>\n      <td>8</td>\n      <td>2009-01-03 00:00:00</td>\n      <td>Grétrystraat 63</td>\n      <td>Brussels</td>\n      <td>None</td>\n      <td>Belgium</td>\n      <td>1000</td>\n      <td>5.94</td>\n    </tr>\n    <tr>\n      <th>3</th>\n      <td>4</td>\n      <td>14</td>\n      <td>2009-01-06 00:00:00</td>\n      <td>8210 111 ST NW</td>\n      <td>Edmonton</td>\n      <td>AB</td>\n      <td>Canada</td>\n      <td>T6G 2C7</td>\n      <td>8.91</td>\n    </tr>\n    <tr>\n      <th>4</th>\n      <td>5</td>\n      <td>23</td>\n      <td>2009-01-11 00:00:00</td>\n      <td>69 Salem Street</td>\n      <td>Boston</td>\n      <td>MA</td>\n      <td>USA</td>\n      <td>2113</td>\n      <td>13.86</td>\n    </tr>\n  </tbody>\n</table>\n</div>"
     },
     "execution_count": 3,
     "metadata": {},
     "output_type": "execute_result"
    }
   ],
   "source": [
    "import sqlite3 as sql\n",
    "\n",
    "conn = sql.connect('../../data/Chinook_Sqlite.sqlite')\n",
    "df = pd.read_sql_query(\"SELECT * FROM invoice LIMIT 25\", conn)\n",
    "df.head()"
   ],
   "metadata": {
    "collapsed": false
   }
  },
  {
   "cell_type": "markdown",
   "source": [
    "Connecting to an API might be a bit more challenging. The basic idea is to send a request (which may include query parameters and access credentials) to an endpoint, which will return a response code plus the data you asked for. Let's try it on a simple example:"
   ],
   "metadata": {
    "collapsed": false
   }
  },
  {
   "cell_type": "code",
   "execution_count": 4,
   "outputs": [
    {
     "name": "stdout",
     "output_type": "stream",
     "text": [
      "{'message': 'success', 'people': [{'craft': 'ISS', 'name': 'Oleg Artemyev'}, {'craft': 'ISS', 'name': 'Denis Matveev'}, {'craft': 'ISS', 'name': 'Sergey Korsakov'}, {'craft': 'ISS', 'name': 'Kjell Lindgren'}, {'craft': 'ISS', 'name': 'Bob Hines'}, {'craft': 'ISS', 'name': 'Samantha Cristoforetti'}, {'craft': 'ISS', 'name': 'Jessica Watkins'}, {'craft': 'Tiangong', 'name': 'Cai Xuzhe'}, {'craft': 'Tiangong', 'name': 'Chen Dong'}, {'craft': 'Tiangong', 'name': 'Liu Yang'}, {'craft': 'ISS', 'name': 'Sergey Prokopyev'}, {'craft': 'ISS', 'name': 'Dmitry Petelin'}, {'craft': 'ISS', 'name': 'Frank Rubio'}], 'number': 13}\n"
     ]
    }
   ],
   "source": [
    "import requests\n",
    "response = requests.get(\"http://api.open-notify.org/astros.json\")\n",
    "print(response.json())"
   ],
   "metadata": {
    "collapsed": false
   }
  },
  {
   "cell_type": "code",
   "execution_count": 5,
   "outputs": [
    {
     "data": {
      "text/plain": "  craft             name\n0   ISS    Oleg Artemyev\n1   ISS    Denis Matveev\n2   ISS  Sergey Korsakov\n3   ISS   Kjell Lindgren\n4   ISS        Bob Hines",
      "text/html": "<div>\n<style scoped>\n    .dataframe tbody tr th:only-of-type {\n        vertical-align: middle;\n    }\n\n    .dataframe tbody tr th {\n        vertical-align: top;\n    }\n\n    .dataframe thead th {\n        text-align: right;\n    }\n</style>\n<table border=\"1\" class=\"dataframe\">\n  <thead>\n    <tr style=\"text-align: right;\">\n      <th></th>\n      <th>craft</th>\n      <th>name</th>\n    </tr>\n  </thead>\n  <tbody>\n    <tr>\n      <th>0</th>\n      <td>ISS</td>\n      <td>Oleg Artemyev</td>\n    </tr>\n    <tr>\n      <th>1</th>\n      <td>ISS</td>\n      <td>Denis Matveev</td>\n    </tr>\n    <tr>\n      <th>2</th>\n      <td>ISS</td>\n      <td>Sergey Korsakov</td>\n    </tr>\n    <tr>\n      <th>3</th>\n      <td>ISS</td>\n      <td>Kjell Lindgren</td>\n    </tr>\n    <tr>\n      <th>4</th>\n      <td>ISS</td>\n      <td>Bob Hines</td>\n    </tr>\n  </tbody>\n</table>\n</div>"
     },
     "execution_count": 5,
     "metadata": {},
     "output_type": "execute_result"
    }
   ],
   "source": [
    "res = pd.DataFrame(response.json()[\"people\"])\n",
    "res.head()"
   ],
   "metadata": {
    "collapsed": false
   }
  },
  {
   "cell_type": "markdown",
   "source": [
    "Finally, let's review some sources with valuable datasets that might help you with your projects. We will list just a few tips to get you started:\n",
    "\n",
    "- Kaggle is known for hosting machine learning and deep learning challenges, and with those challenges also come datasets.\n",
    "- .gov Datasets - many countries openly share their datasets with the public.\n",
    "- UCI Machine Learning Repository provides easy-to-use and cleaned datasets. We are also using some of their datasets during our lectures.\n",
    "- Dataset Subreddits might be another great source of data. People usually discuss the available datasets and how to use existing datasets for new tasks.\n",
    "- Another excellent community-driven source is [Awesome Public Datasets](https://github.com/awesomedata/awesome-public-datasets) on GitHub and its forks\n",
    "\n",
    "## Resources\n",
    "\n",
    "```{bibliography}\n",
    ":filter: docname in docnames\n",
    "```"
   ],
   "metadata": {
    "collapsed": false
   }
  }
 ],
 "metadata": {
  "kernelspec": {
   "display_name": "Python 3",
   "language": "python",
   "name": "python3"
  },
  "language_info": {
   "codemirror_mode": {
    "name": "ipython",
    "version": 2
   },
   "file_extension": ".py",
   "mimetype": "text/x-python",
   "name": "python",
   "nbconvert_exporter": "python",
   "pygments_lexer": "ipython2",
   "version": "2.7.6"
  }
 },
 "nbformat": 4,
 "nbformat_minor": 0
}
